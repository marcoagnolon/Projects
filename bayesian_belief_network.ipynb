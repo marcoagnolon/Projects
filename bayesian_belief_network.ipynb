{
 "cells": [
  {
   "cell_type": "markdown",
   "metadata": {},
   "source": [
    "   # ESAME"
   ]
  },
  {
   "cell_type": "code",
   "execution_count": 86,
   "metadata": {},
   "outputs": [
    {
     "data": {
      "text/html": [
       "<table>\n",
       "<thead><tr><th scope=col>x1</th><th scope=col>x2</th><th scope=col>x3</th></tr></thead>\n",
       "<tbody>\n",
       "\t<tr><td>1</td><td>0</td><td>0</td></tr>\n",
       "\t<tr><td>1</td><td>1</td><td>1</td></tr>\n",
       "\t<tr><td>0</td><td>0</td><td>1</td></tr>\n",
       "\t<tr><td>1</td><td>1</td><td>1</td></tr>\n",
       "\t<tr><td>0</td><td>0</td><td>0</td></tr>\n",
       "\t<tr><td>0</td><td>1</td><td>1</td></tr>\n",
       "\t<tr><td>1</td><td>1</td><td>1</td></tr>\n",
       "\t<tr><td>0</td><td>0</td><td>0</td></tr>\n",
       "\t<tr><td>1</td><td>1</td><td>1</td></tr>\n",
       "\t<tr><td>0</td><td>0</td><td>0</td></tr>\n",
       "</tbody>\n",
       "</table>\n"
      ],
      "text/latex": [
       "\\begin{tabular}{r|lll}\n",
       " x1 & x2 & x3\\\\\n",
       "\\hline\n",
       "\t 1 & 0 & 0\\\\\n",
       "\t 1 & 1 & 1\\\\\n",
       "\t 0 & 0 & 1\\\\\n",
       "\t 1 & 1 & 1\\\\\n",
       "\t 0 & 0 & 0\\\\\n",
       "\t 0 & 1 & 1\\\\\n",
       "\t 1 & 1 & 1\\\\\n",
       "\t 0 & 0 & 0\\\\\n",
       "\t 1 & 1 & 1\\\\\n",
       "\t 0 & 0 & 0\\\\\n",
       "\\end{tabular}\n"
      ],
      "text/markdown": [
       "\n",
       "x1 | x2 | x3 | \n",
       "|---|---|---|---|---|---|---|---|---|---|\n",
       "| 1 | 0 | 0 | \n",
       "| 1 | 1 | 1 | \n",
       "| 0 | 0 | 1 | \n",
       "| 1 | 1 | 1 | \n",
       "| 0 | 0 | 0 | \n",
       "| 0 | 1 | 1 | \n",
       "| 1 | 1 | 1 | \n",
       "| 0 | 0 | 0 | \n",
       "| 1 | 1 | 1 | \n",
       "| 0 | 0 | 0 | \n",
       "\n",
       "\n"
      ],
      "text/plain": [
       "   x1 x2 x3\n",
       "1  1  0  0 \n",
       "2  1  1  1 \n",
       "3  0  0  1 \n",
       "4  1  1  1 \n",
       "5  0  0  0 \n",
       "6  0  1  1 \n",
       "7  1  1  1 \n",
       "8  0  0  0 \n",
       "9  1  1  1 \n",
       "10 0  0  0 "
      ]
     },
     "metadata": {},
     "output_type": "display_data"
    }
   ],
   "source": [
    "x1 <- c(1,1,0,1,0,0,1,0,1,0)\n",
    "x2 <- c(0,1,0,1,0,1,1,0,1,0)\n",
    "x3 <- c(0,1,1,1,0,1,1,0,1,0)\n",
    "\n",
    "\n",
    "df = data.frame(x1,x2,x3)\n",
    "df\n"
   ]
  },
  {
   "cell_type": "code",
   "execution_count": 87,
   "metadata": {},
   "outputs": [],
   "source": [
    "n <- ncol(df)\n",
    "u <- 2\n",
    "\n",
    "r <- as.numeric(lengths(lapply(df, unique))) #numero di valori unici in ogni nodo\n",
    "m <- as.numeric(lapply(df, length))  #numero di valori di ogni nodo\n",
    "r.vec <- lapply(df, unique)  #quali sono i valori unici per ogni nodo\n"
   ]
  },
  {
   "cell_type": "code",
   "execution_count": 88,
   "metadata": {},
   "outputs": [],
   "source": [
    "uq_elem=list()\n",
    "\n",
    "for(i in 1:n)\n",
    "{\n",
    "      uq_elem[[i]] <-  unlist(r.vec[i], use.names=F) \n",
    "\n",
    "}"
   ]
  },
  {
   "cell_type": "markdown",
   "metadata": {},
   "source": [
    "### funzione Nijk\n"
   ]
  },
  {
   "cell_type": "code",
   "execution_count": 89,
   "metadata": {},
   "outputs": [],
   "source": [
    "## calcolo N ijk\n",
    "N <- function(df, i, j, k, prec, u) {\n",
    "    \n",
    "    \n",
    "    if(j==0){ \n",
    "        count <- length(which(df[,c(i)]==uq_elem[[i]][k]))\n",
    "            }\n",
    "   \n",
    "    if( (length(prec)==1)  &  (j!=0)){ # because for (a in c(0:-1)) would do it twice instead of never\n",
    "        \n",
    "                                                       \n",
    "        count <- length(which(  (df[,c(i)]==uq_elem[[i]][k]) & (df[,c(prec)]==uq_elem[[prec]][j])  ))\n",
    "        \n",
    "\n",
    "        }\n",
    "    \n",
    "        \n",
    "    if((length(prec)>=2) &  (j!=0)){\n",
    "        \n",
    "        size <- length(prec)\n",
    "        \n",
    "        indices <- numeric(size)\n",
    "        \n",
    "        x <- j-1\n",
    "        \n",
    "        for (a in c(0:(size-2)) ){ # in R for loop extreme values are included \n",
    "            indices[size-a]<-(x%%r[prec[size-a]])+1 # the indices from last to second are given by the remainder of the division +1\n",
    "            x<-(x%/%r[prec[size-a]])\n",
    "        }\n",
    "        indices[1] <- x+1 # the first index is given by the result of the last division +1\n",
    "        \n",
    "\n",
    "        \n",
    "        l0 <- which( (df[,c(i)]==uq_elem[[i]][k]) ) \n",
    "        h <- 1\n",
    "        l <- list()\n",
    "\n",
    "        for (node in prec){\n",
    "\n",
    "            l[[h]] <- which( (df[,c(node)]==uq_elem[[node]][indices[h]]) )  \n",
    "\n",
    "            h <- h+1\n",
    "         }\n",
    "        l[[length(l)+1]] <- l0\n",
    "        \n",
    "        count <- length(Reduce(intersect, l)) \n",
    "        }\n",
    "    \n",
    "    \n",
    "    return (count)\n",
    "      \n",
    "}"
   ]
  },
  {
   "cell_type": "markdown",
   "metadata": {},
   "source": [
    "### funzione Nij"
   ]
  },
  {
   "cell_type": "code",
   "execution_count": 90,
   "metadata": {},
   "outputs": [],
   "source": [
    "\n",
    "#calcolo N ij\n",
    "\n",
    "N.sum <-function(df, i, j, prec, r, u) {\n",
    "    \n",
    "    c <- 0\n",
    "    \n",
    "    for (k in c(1:r[i])) {\n",
    "         \n",
    "        \n",
    "         c <- c + N(df, i, j, k, prec, u)\n",
    "        \n",
    "        }\n",
    "    \n",
    "    return ( c )\n",
    "    \n",
    "    }\n"
   ]
  },
  {
   "cell_type": "markdown",
   "metadata": {},
   "source": [
    "### funzione g\n",
    "\n"
   ]
  },
  {
   "cell_type": "code",
   "execution_count": 91,
   "metadata": {},
   "outputs": [],
   "source": [
    "product <-function(df, i, j, r, prec, u) {\n",
    "    \n",
    "    prod <- 1\n",
    "    \n",
    "    for (k in c(1:r[i])){\n",
    "            \n",
    "            prod<-prod*factorial(N(df, i, j, k, prec, u))\n",
    "            \n",
    "        }\n",
    "    \n",
    "    return(prod)\n",
    "    }"
   ]
  },
  {
   "cell_type": "code",
   "execution_count": 92,
   "metadata": {},
   "outputs": [],
   "source": [
    "g <-function(df, i, prec, r, u) {\n",
    "    \n",
    "    if (prec[1]==0){\n",
    "\n",
    "        p <-  factorial(r[i]-1)/factorial(N.sum(df, i, 0, prec, r, u)+r[i]-1)*product(df, i, 0, r, prec, u)\n",
    "            \n",
    "    }\n",
    "    \n",
    "    if ((length(prec)==1)  &  (prec[1]!=0)){\n",
    "\n",
    "\n",
    "        \n",
    "        p <- 1\n",
    "        \n",
    "        for (j in c(1:r[prec[1]])){\n",
    "            \n",
    "            p<- p*factorial(r[i]-1)/factorial(N.sum(df, i, j, prec, r, u)+r[i]-1)*product(df, i, j, r, prec, u)\n",
    "            \n",
    "        }\n",
    "        \n",
    "    }\n",
    "    \n",
    "    if((length(prec)>=2) &  (prec[1]!=0)){\n",
    "\n",
    "        size <- length(prec)\n",
    "        \n",
    "        \n",
    "        p <- 1\n",
    "        \n",
    "        for (j in c(1:prod(r[prec])) ){  # that function will do the work\n",
    "        \n",
    "            \n",
    "            p<- p*factorial(r[i]-1)/factorial(N.sum(df, i, j, prec, r, u)+r[i]-1)*product(df, i, j, r, prec, u)\n",
    "           \n",
    "        }\n",
    "        \n",
    "    }\n",
    "    return (p)\n",
    "    }"
   ]
  },
  {
   "cell_type": "markdown",
   "metadata": {},
   "source": [
    "## K2"
   ]
  },
  {
   "cell_type": "markdown",
   "metadata": {},
   "source": [
    "### powerset function"
   ]
  },
  {
   "cell_type": "code",
   "execution_count": 93,
   "metadata": {},
   "outputs": [],
   "source": [
    "powerset <- function(set, u) { \n",
    "    set<- set[set>0]\n",
    "    \n",
    "    len <- length(set)\n",
    "    masks <- 2^(1:len-1)\n",
    "    pow <-lapply( 1:2^len-1, function(x) set[ bitwAnd(x, masks) != 0 ] )\n",
    "                 \n",
    "    array<-list()         \n",
    "    for (i in c(1:length(pow))){\n",
    "        if ( (length(pow[[i]])>0) & (length(pow[[i]])<=u) ){\n",
    "            array[i] <- pow[i]\n",
    "        }\n",
    "       \n",
    "        \n",
    "    }\n",
    "                 \n",
    "    array <- array[-which(sapply(array, is.null))]\n",
    "    return(array)\n",
    "}\n",
    "                 \n",
    "\n"
   ]
  },
  {
   "cell_type": "code",
   "execution_count": 94,
   "metadata": {},
   "outputs": [
    {
     "name": "stdout",
     "output_type": "stream",
     "text": [
      "\n",
      "node 1  parent of node 2\n",
      "node 2  parent of node 3\n"
     ]
    }
   ],
   "source": [
    "for (i in c(1:n)){\n",
    "    \n",
    "    prec <- 0\n",
    "    P.old <- g(df, i, prec, r, u)\n",
    "    \n",
    "    OKtoProceed <- T\n",
    "    \n",
    "    if (i==1){\n",
    "        OKtoProceed <- F    #se non ho nodi predecessori non entro nel ciclo\n",
    "        }\n",
    "\n",
    "    while ((OKtoProceed)){\n",
    "        for (prec in powerset( c(1:(i-1))[], u )){\n",
    "            \n",
    "            P.new <- g(df, i, prec, r, u)\n",
    "            \n",
    "            if (P.new > P.old){\n",
    "                P.old <- P.new    \n",
    "                x <- prec\n",
    "\n",
    "            }\n",
    "        }   \n",
    "        cat('node', x ,' parent of node', i)\n",
    "            \n",
    "        OKtoProceed <- F\n",
    "        \n",
    "    }\n",
    "    cat('\\n')\n",
    "    \n",
    "}"
   ]
  },
  {
   "cell_type": "code",
   "execution_count": null,
   "metadata": {},
   "outputs": [],
   "source": []
  },
  {
   "cell_type": "code",
   "execution_count": null,
   "metadata": {},
   "outputs": [],
   "source": []
  },
  {
   "cell_type": "code",
   "execution_count": null,
   "metadata": {},
   "outputs": [],
   "source": []
  },
  {
   "cell_type": "code",
   "execution_count": null,
   "metadata": {},
   "outputs": [],
   "source": []
  }
 ],
 "metadata": {
  "kernelspec": {
   "display_name": "R",
   "language": "R",
   "name": "ir"
  },
  "language_info": {
   "codemirror_mode": "r",
   "file_extension": ".r",
   "mimetype": "text/x-r-source",
   "name": "R",
   "pygments_lexer": "r",
   "version": "3.5.1"
  }
 },
 "nbformat": 4,
 "nbformat_minor": 2
}
