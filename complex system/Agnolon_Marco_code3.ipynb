{
 "cells": [
  {
   "cell_type": "markdown",
   "metadata": {},
   "source": [
    "# Ex3"
   ]
  },
  {
   "cell_type": "code",
   "execution_count": 1,
   "metadata": {},
   "outputs": [
    {
     "data": {
      "text/plain": [
       "'%.5f'"
      ]
     },
     "execution_count": 1,
     "metadata": {},
     "output_type": "execute_result"
    }
   ],
   "source": [
    "import matplotlib.pyplot as plt\n",
    "import numpy as np\n",
    "import pandas as pd \n",
    "from functools import reduce\n",
    "import networkx as nx\n",
    "\n",
    "%precision 5"
   ]
  },
  {
   "cell_type": "markdown",
   "metadata": {},
   "source": [
    "## Task 1"
   ]
  },
  {
   "cell_type": "code",
   "execution_count": 2,
   "metadata": {},
   "outputs": [],
   "source": [
    "df=pd.read_csv(\"bci05.csv\", usecols=['sp','status','gx','gy'])  #elimino colonne inutili\n",
    "df=df[df['status']=='A']    #tengo solo i vivi\n",
    "df.drop('status', axis=1, inplace=True)   #elimino colonna vivi/morti"
   ]
  },
  {
   "cell_type": "code",
   "execution_count": 3,
   "metadata": {},
   "outputs": [
    {
     "name": "stdout",
     "output_type": "stream",
     "text": [
      "The total number of species is:  299\n"
     ]
    }
   ],
   "source": [
    "# counting the total number of species\n",
    "number_species=df['sp'].nunique()\n",
    "print('The total number of species is: ', number_species)"
   ]
  },
  {
   "cell_type": "code",
   "execution_count": 4,
   "metadata": {},
   "outputs": [],
   "source": [
    "# renaming spiecies with their number\n",
    "species = np.unique(df['sp'])\n",
    "df = df.replace({'sp':dict(zip(species, np.arange(number_species)) ) }) "
   ]
  },
  {
   "cell_type": "code",
   "execution_count": 5,
   "metadata": {},
   "outputs": [],
   "source": [
    "# dividing in 800 zones and creating a dataframe for every subplot\n",
    "def subplotter(n, xdim=25, ydim=25):\n",
    "    \n",
    "    nx=n%(1000/xdim)                  #coordinata cella orizzontale scelta (da 0 a 1000/xdim-1)\n",
    "    ny=n//(1000/xdim)                 #coordinata cella verticale scelta (da 0 a 500/ydim-1)\n",
    "\n",
    "    #print(nx, ny)\n",
    "    \n",
    "    return df[(xdim*nx<=df['gx']) & (df['gx'] < xdim*(nx+1) ) & \n",
    "              (ydim*ny<=df['gy']) & (df['gy'] < (ny+1)*ydim )]\n"
   ]
  },
  {
   "cell_type": "code",
   "execution_count": 6,
   "metadata": {},
   "outputs": [
    {
     "data": {
      "text/plain": [
       "True"
      ]
     },
     "execution_count": 6,
     "metadata": {},
     "output_type": "execute_result"
    }
   ],
   "source": [
    "#controllo siano tutte comprese\n",
    "\n",
    "c=0\n",
    "for i in range(800):\n",
    "    c+=len(subplotter(i))\n",
    "    \n",
    "c==len(df)"
   ]
  },
  {
   "cell_type": "code",
   "execution_count": 7,
   "metadata": {},
   "outputs": [],
   "source": [
    "#creo una lista contenente ciascun dataframe che rappresenta un diverso subplot\n",
    "#nel quale vengono contate le volte che compare una certa specie\n",
    "\n",
    "sub=[i for i in range(801)] #inizializzo la lista\n",
    "sub[0]=pd.DataFrame(np.zeros(number_species)).rename(index=str, columns={0:'00'}) #indispenabile per mantenere tutti gli indici nel dataframe finale (joint infatti costruisce basandosi sul parametro how=left)\n",
    "\n",
    "for i in range(800):\n",
    "    # subplotter gives the species (renamed with a progressive number in the previous cells),\n",
    "    # subplotter.sp.value_counts() gives the number of individuals of that species (sorted in descending order)\n",
    "    # pd.DataFrame.sort_index(...) sort the content w.r.t. the index, so in our case the\n",
    "    #     subplotter.sp.value_counts() is re-ordered by index, and so by species, and not\n",
    "    #     basing on the frequancy of the species\n",
    "    # pd.Dataframe(...).rename(...{'sp':i}) rename the column of the current DataFrame (which\n",
    "    #     is called 'sp' and it is no more useful because now we want the subplot information)\n",
    "    #     with the subplot number\n",
    "    # all this stuff is saved at position i+1 of 'sub'\n",
    "    sub[i+1]=pd.DataFrame(pd.DataFrame.sort_index((subplotter(i).sp.value_counts()))).rename(index=str, columns={'sp':i})   #conto esemplari di stess specie nel dataframe\n",
    "    \n"
   ]
  },
  {
   "cell_type": "code",
   "execution_count": 8,
   "metadata": {},
   "outputs": [],
   "source": [
    "#concateno i dataframe creati \n",
    "\n",
    "# reduce is a function that acts recursively on the list given\n",
    "vectors=reduce(lambda x, y: pd.DataFrame.join(x,y), sub)\n",
    "\n",
    "# Filling nan with 0s (python places \"nan\" to fill \"void\" positions when adding)\n",
    "vectors.fillna(0, inplace=True)\n",
    "# eliminating first column: it was used to assure that all the species were present every time we\n",
    "#     added a plot in sub all species was present (python gives \"nan\" to fill void positions when adding)\n",
    "vectors.drop('00',axis=1,inplace=True)\n",
    "# renaming dataframe columns\n",
    "vectors.rename_axis(\"species\", inplace=True)\n",
    "vectors.rename_axis(\"subplot\", axis=\"columns\", inplace=True)\n",
    "\n",
    "# to show the matrix of subplots and their content uncomment the following line\n",
    "#vectors"
   ]
  },
  {
   "cell_type": "code",
   "execution_count": 9,
   "metadata": {},
   "outputs": [],
   "source": [
    "subplot_flattern = np.array(vectors.values)"
   ]
  },
  {
   "cell_type": "code",
   "execution_count": 10,
   "metadata": {},
   "outputs": [],
   "source": [
    "subplot_flattern = subplot_flattern[subplot_flattern!=0] #elimino gli zeri"
   ]
  },
  {
   "cell_type": "code",
   "execution_count": 11,
   "metadata": {},
   "outputs": [
    {
     "name": "stdout",
     "output_type": "stream",
     "text": [
      "The flattened vector has length: 49479\n",
      "\n",
      "The max in the falttened vector is: 328.0\n"
     ]
    }
   ],
   "source": [
    "print(\"The flattened vector has length:\", len(subplot_flattern.flatten()))\n",
    "print(\"\\nThe max in the falttened vector is:\", max(subplot_flattern))"
   ]
  },
  {
   "cell_type": "markdown",
   "metadata": {},
   "source": [
    "## Task 2"
   ]
  },
  {
   "cell_type": "code",
   "execution_count": 15,
   "metadata": {},
   "outputs": [
    {
     "name": "stdout",
     "output_type": "stream",
     "text": [
      "P(1) = 1.0\n"
     ]
    },
    {
     "name": "stderr",
     "output_type": "stream",
     "text": [
      "C:\\Users\\marco\\Anaconda3\\lib\\site-packages\\ipykernel_launcher.py:1: DeprecationWarning: object of type <class 'numpy.float64'> cannot be safely interpreted as an integer.\n",
      "  \"\"\"Entry point for launching an IPython kernel.\n"
     ]
    }
   ],
   "source": [
    "x_interv = np.linspace(1, max(subplot_flattern), max(subplot_flattern))\n",
    "prob = np.zeros(len(x_interv))\n",
    "tot = np.sum(subplot_flattern)\n",
    "count = np.zeros(len(x_interv))\n",
    "\n",
    "for i in range(len(x_interv)):\n",
    "    count[i] = len(subplot_flattern[subplot_flattern>x_interv[i]])\n",
    "\n",
    "# normalizing (dividing by the first element because it has all the values: P(1) = 1 as required)\n",
    "prob = count/count[0]\n",
    "\n",
    "print(\"P(1) =\", prob[0])"
   ]
  },
  {
   "cell_type": "code",
   "execution_count": 16,
   "metadata": {
    "scrolled": false
   },
   "outputs": [
    {
     "data": {
      "image/png": "[encoded data removed]",
      "text/plain": [
       "<Figure size 864x576 with 1 Axes>"
      ]
     },
     "metadata": {},
     "output_type": "display_data"
    }
   ],
   "source": [
    "plt.figure(figsize=(12, 8))\n",
    "\n",
    "plt.plot(x_interv, prob)\n",
    "\n",
    "plt.xlim(0)\n",
    "plt.ylim([0, 1])\n",
    "\n",
    "plt.title(\"RSA\", fontsize=20)\n",
    "plt.xlabel(\"Number of individuals [#]\", fontsize=13)\n",
    "plt.ylabel(\"Prob to be > x\", fontsize=13)\n",
    "\n",
    "plt.grid()\n",
    "plt.show()"
   ]
  },
  {
   "cell_type": "markdown",
   "metadata": {},
   "source": [
    "## Task 3\n",
    "\n",
    "Using the formula for the stationary solution:\n",
    "\n",
    "\\begin{equation}\n",
    "P^*_n = -\\nu \\frac{ (1-\\nu)^n }{ \\log{(\\nu)} } \\frac{1}{n}\n",
    "\\end{equation}\n",
    "\n",
    "where $\\nu$ is the immigration rate."
   ]
  },
  {
   "cell_type": "code",
   "execution_count": 25,
   "metadata": {},
   "outputs": [],
   "source": [
    "m = 0.05        # immigration rate\n",
    "\n",
    "x_interv_fixed = x_interv[1:]\n",
    "\n",
    "P_station = -1*m/np.log(m) * (1-m)**x_interv_fixed / x_interv_fixed\n",
    "\n",
    "P_station = np.append(0, P_station)\n",
    "norm = np.sum(P_station)\n",
    "\n",
    "cum_P_stat = np.cumsum(P_station/norm)"
   ]
  },
  {
   "cell_type": "code",
   "execution_count": 26,
   "metadata": {},
   "outputs": [],
   "source": [
    "#modo alternativo\n",
    "\n",
    "P_station1 = m/np.log(m) * (1-m)**x_interv_fixed / x_interv_fixed\n",
    "\n",
    "P_station1 = np.append(0, P_station1)\n",
    "norm1 = np.sum(P_station1)\n",
    "\n",
    "cum_P_stat1 = np.cumsum(P_station1/norm1)"
   ]
  },
  {
   "cell_type": "code",
   "execution_count": 28,
   "metadata": {},
   "outputs": [
    {
     "data": {
      "image/png": "[encoded data removed]",
      "text/plain": [
       "<Figure size 864x576 with 1 Axes>"
      ]
     },
     "metadata": {},
     "output_type": "display_data"
    }
   ],
   "source": [
    "plt.figure(figsize=(12, 8))\n",
    "plt.plot(x_interv, 1-cum_P_stat, label=\"Thoeretichal result\")\n",
    "plt.plot(x_interv, prob, label=\"Experimental result\")\n",
    "plt.plot(x_interv, 1-cum_P_stat1, label=\"Thoeretichal result\")\n",
    "\n",
    "\n",
    "plt.ylim([0, 1])\n",
    "plt.xlim([0, max(x_interv)])\n",
    "\n",
    "plt.title(\"Experimental results vs theoretical stationary distribution\", fontsize=20)\n",
    "plt.xlabel(\"Number of individuals [#]\", fontsize=13)\n",
    "plt.ylabel(\"Prob to be > x\", fontsize=13)\n",
    "plt.legend()\n",
    "plt.grid()\n",
    "plt.show()"
   ]
  },
  {
   "cell_type": "markdown",
   "metadata": {},
   "source": [
    "## Task 4"
   ]
  },
  {
   "cell_type": "code",
   "execution_count": 16,
   "metadata": {},
   "outputs": [],
   "source": [
    "from scipy import optimize"
   ]
  },
  {
   "cell_type": "code",
   "execution_count": 17,
   "metadata": {},
   "outputs": [],
   "source": [
    "#lati = np.array([1, 2, 4, 5, 10, 20, 25, 50, 100, 125, 250])\n",
    "lati = np.array([4, 5, 10, 20, 25, 50, 100, 125, 250])"
   ]
  },
  {
   "cell_type": "code",
   "execution_count": 18,
   "metadata": {},
   "outputs": [
    {
     "name": "stdout",
     "output_type": "stream",
     "text": [
      "Doing size = 4\n",
      "Doing size = 5\n",
      "Doing size = 10\n",
      "Doing size = 20\n",
      "Doing size = 25\n",
      "Doing size = 50\n",
      "Doing size = 100\n",
      "Doing size = 125\n",
      "Doing size = 250\n"
     ]
    }
   ],
   "source": [
    "means = []\n",
    "for l in lati:\n",
    "    print(\"Doing size =\", l)\n",
    "    num_sub = int(1000*500/l**2)\n",
    "    sub=[i for i in range(num_sub+1)] #inizializzo la lista\n",
    "    for i in range(num_sub):\n",
    "        sub[i+1] = len(np.unique(subplotter(i, l, l).values[:,0]))\n",
    "    means.append(np.mean(sub))"
   ]
  },
  {
   "cell_type": "code",
   "execution_count": 19,
   "metadata": {},
   "outputs": [],
   "source": [
    "def S_avg(ja, ν):\n",
    "    num_species = 299\n",
    "    A = 1000*500\n",
    "    return num_species*(1 - np.log( ja/A*(1-ν)+ν ) / (np.log(ν) ) )"
   ]
  },
  {
   "cell_type": "code",
   "execution_count": 20,
   "metadata": {
    "scrolled": false
   },
   "outputs": [
    {
     "name": "stderr",
     "output_type": "stream",
     "text": [
      "/home/tommaso/anaconda3/lib/python3.7/site-packages/ipykernel_launcher.py:4: RuntimeWarning: invalid value encountered in log\n",
      "  after removing the cwd from sys.path.\n"
     ]
    }
   ],
   "source": [
    "aree = lati**2\n",
    "m_fit, m_fit_cov = optimize.curve_fit(S_avg, aree, means, p0=[0.05])"
   ]
  },
  {
   "cell_type": "code",
   "execution_count": 24,
   "metadata": {},
   "outputs": [
    {
     "name": "stdout",
     "output_type": "stream",
     "text": [
      "[0.000270453352612] [[1.608531928847822e-09]]\n",
      "[[4.010650731300124e-05]]\n"
     ]
    }
   ],
   "source": [
    "%precision 15\n",
    "\n",
    "print(m_fit, m_fit_cov)\n",
    "print(np.sqrt(m_fit_cov))"
   ]
  },
  {
   "cell_type": "code",
   "execution_count": 22,
   "metadata": {},
   "outputs": [
    {
     "data": {
      "text/plain": [
       "105"
      ]
     },
     "execution_count": 22,
     "metadata": {},
     "output_type": "execute_result"
    }
   ],
   "source": [
    "len(np.unique(subplotter(5, 50, 50).values[:,0]))"
   ]
  },
  {
   "cell_type": "code",
   "execution_count": 23,
   "metadata": {},
   "outputs": [
    {
     "data": {
      "image/png": "[encoded data removed]",
      "text/plain": [
       "<Figure size 864x576 with 1 Axes>"
      ]
     },
     "metadata": {
      "needs_background": "light"
     },
     "output_type": "display_data"
    }
   ],
   "source": [
    "plt.figure(figsize=(12,8))\n",
    "\n",
    "interv=np.linspace(4, 70000, 1000)\n",
    "plt.plot(interv, S_avg(interv, m_fit), label='fitted curve')\n",
    "plt.plot(aree, means, label='real curve')\n",
    "\n",
    "plt.title(\"SAR\", fontsize=25)\n",
    "plt.xlabel(\"Area of the subset [m²]\", fontsize=15)\n",
    "plt.ylabel(\"Species\", fontsize=15)\n",
    "\n",
    "plt.xlim([0, max(aree)])\n",
    "plt.ylim([min( S_avg(interv, m_fit)), max( S_avg(interv, m_fit))+1])\n",
    "\n",
    "\n",
    "plt.legend()\n",
    "plt.grid()\n",
    "\n",
    "plt.show()"
   ]
  },
  {
   "cell_type": "markdown",
   "metadata": {},
   "source": [
    "## Task 5"
   ]
  },
  {
   "cell_type": "markdown",
   "metadata": {},
   "source": [
    "We have:\n",
    "<ol>\n",
    "    <li> Birth: A+0 $\\rightarrow$ A+A with rate $b$ (per unit time and per particle); </li>\n",
    "    <li> Migration: 0 $\\rightarrow$ A with probability m (per unit time and per particle); </li>\n",
    "    <li> Death: A $\\rightarrow$ 0 with prob. d(A)=(b+m)·A/K (per unit time and per particle). </li>\n",
    "</ol>\n",
    "\n",
    "We can write:\n",
    "$$ W^+ = W(A + 0 \\rightarrow A+1) = b \\cdot \\frac{A}{K} \\frac{K-A}{K-1} + m \\frac{K-A}{K} \\\\\n",
    "W^- = W(A \\rightarrow A-1) = \\frac{(b) \\cdot A}{K} \\cdot \\frac{A}{K} $$\n",
    "\n",
    "Writing the Master Equation\n",
    "\n",
    "$$ \\frac{dP_n}{dt} = P_{n+1} W^-_{n+1} + P_{n-1} W^+_{n-1} - P_n \\cdot (W^+_n + W^-_n) $$\n",
    "\n",
    "Now we define the current probability as:\n",
    "\n",
    "$$ J(n) = P_{n}W^-_n - P_{n-1} W^+_{n-1} $$\n",
    "\n",
    "So the Master Equation becomes:\n",
    "\n",
    "$$ \\frac{dP_n}{dt} = J(n+1) - J(n) $$\n",
    "\n",
    "Imposing stationarity we find:\n",
    "\n",
    "$$ 0 = J(n+1) - J(n) \\quad \\Rightarrow \\quad J(n+1) = J(n) $$\n",
    "\n",
    "We also have:\n",
    "\n",
    "$$ J(0) = 0 \\quad \\Rightarrow \\quad P_{0}W^-_0 - P_{-1} W^+_{-1} = 0 $$\n",
    "\n",
    "Because we used the following boundaries:\n",
    "\n",
    "$$ W^+_{-1} = 0 \\quad \\text{(this is not a physical situation)} \\\\\n",
    "W^+_{0} = 0 \\quad \\text{(when there are 0 individuals there can not be births)} $$\n",
    "\n",
    "we have:\n",
    "\n",
    "$$ J(0) = 0 \\quad \\Rightarrow \\quad J(n+1) = 0 \\quad \\forall n $$\n",
    "\n",
    "It holds then:\n",
    "\n",
    "$$ J(n+1) = P_{n+1}W^-_{n+1} - P_{n} W^+_{n} = 0 \\quad \\Rightarrow \\quad P_{n+1} = \\frac{W^+_n}{W^-_{n+1}}P_n $$\n",
    "\n",
    "So, $\\forall P_n$, it hols:\n",
    "\n",
    "$$ P_n = \\left( \\prod\\limits_i^n \\frac{W^+_i}{W^-_{i+1}} \\right) P_0 $$\n",
    "\n",
    "Now, to find $P_0$ we have to normalize, so:\n",
    "\n",
    "$$ \\sum\\limits_{n=0}^K P_n  = 1 \\quad \\Rightarrow \\quad P_0 \\sum\\limits_{n=0}^K \\frac{P_n}{P_0} = 1 $$\n",
    "\n",
    "Using the fact that all fractions written above are not dependent on $P_0$, we can write:\n",
    "\n",
    "$$ P_0 = \\frac{1}{\\sum\\limits_{n=0}^{K} \\left( \\prod\\limits_{i=0}^n \\frac{W^+_i}{W^-_{i+1}} \\right) } $$"
   ]
  },
  {
   "cell_type": "code",
   "execution_count": 112,
   "metadata": {},
   "outputs": [
    {
     "data": {
      "text/plain": [
       "0.008539778709429534"
      ]
     },
     "execution_count": 112,
     "metadata": {},
     "output_type": "execute_result"
    }
   ],
   "source": [
    "W_p(1, b, K, m)*W_p(0, b, K, m)/(W_m(2, b, K, m)*W_m(1, b, K, m))/normal"
   ]
  },
  {
   "cell_type": "markdown",
   "metadata": {},
   "source": [
    "We have:\n",
    "<ol>\n",
    "    <li> Birth: A+0 $\\rightarrow$ A+A with rate $b$ (per unit time and per particle); </li>\n",
    "    <li> Migration: 0 $\\rightarrow$ A with probability m (per unit time and per particle); </li>\n",
    "    <li> Death: A $\\rightarrow$ 0 with prob. d(A)=(b+m)·A/K (per unit time and per particle). </li>\n",
    "</ol>\n",
    "\n",
    "We can write:\n",
    "$$ W^+ = W(A \\rightarrow A+1) = b \\cdot A + m \\\\\n",
    "W^- = W(A \\rightarrow A-1) = \\frac{b \\cdot A}{K} \\cdot A $$\n",
    "\n",
    "Writing the Master Equation\n",
    "\n",
    "$$ \\frac{dP_n}{dt} = P_{n+1} W^-_{n+1} + P_{n-1} W^+_{n-1} - P_n \\cdot (W^+_n + W^-_n) $$\n",
    "\n",
    "Now we define the current probability as:\n",
    "\n",
    "$$ J(n) = P_{n}W^-_n - P_{n-1} W^+_{n-1} $$\n",
    "\n",
    "So the Master Equation becomes:\n",
    "\n",
    "$$ \\frac{dP_n}{dt} = J(n+1) - J(n) $$\n",
    "\n",
    "Imposing stationarity we find:\n",
    "\n",
    "$$ 0 = J(n+1) - J(n) \\quad \\Rightarrow \\quad J(n+1) = J(n) $$\n",
    "\n",
    "We also have:\n",
    "\n",
    "$$ J(0) = 0 \\quad \\Rightarrow \\quad P_{0}W^-_0 - P_{-1} W^+_{-1} = 0 $$\n",
    "\n",
    "Because we used the following boundaries:\n",
    "\n",
    "$$ W^+_{-1} = 0 \\quad \\text{(this is not a physical situation)} \\\\\n",
    "W^+_{0} = 0 \\quad \\text{(when there are 0 individuals there can not be births)} $$\n",
    "\n",
    "we have:\n",
    "\n",
    "$$ J(0) = 0 \\quad \\Rightarrow \\quad J(n+1) = 0 \\quad \\forall n $$\n",
    "\n",
    "It holds then:\n",
    "\n",
    "$$ J(n+1) = P_{n+1}W^-_{n+1} - P_{n} W^+_{n} \\quad \\Rightarrow \\quad P_{n+1} = \\frac{W^+_n}{W^-_{n+1}}P_n $$\n",
    "\n",
    "So, $\\forall P_n$, it hols:\n",
    "\n",
    "$$ P_n = \\left( \\prod\\limits_i^n \\frac{W^+_i}{W^-_{i+1}} \\right) P_0 $$\n",
    "\n",
    "Now, to find $P_0$ we have to normalize, so:\n",
    "\n",
    "$$ \\sum\\limits_{n=0}^K P_n  = 1 \\quad \\Rightarrow \\quad P_0 \\sum\\limits_{n=0}^K \\frac{P_n}{P_0} = 1 $$\n",
    "\n",
    "Using the fact that all fractions written above are not dependent on $P_0$, we can write:\n",
    "\n",
    "$$ P_0 = \\frac{1}{\\sum\\limits_{n=0}^{K} \\left( \\prod\\limits_{i=0}^n \\frac{W^+_i}{W^-_{i+1}} \\right) } $$"
   ]
  },
  {
   "cell_type": "code",
   "execution_count": 25,
   "metadata": {},
   "outputs": [
    {
     "data": {
      "image/png": "[encoded data removed]",
      "text/plain": [
       "<Figure size 864x576 with 1 Axes>"
      ]
     },
     "metadata": {
      "needs_background": "light"
     },
     "output_type": "display_data"
    }
   ],
   "source": [
    "def norm(x, mu, sigma):\n",
    "    return 1/np.sqrt(2*sigma**2*np.pi)  *  np.exp(-(x-mu)**2/(2*sigma**2))\n",
    "\n",
    "def W_p(n, b = 1, K = 10, m = 0):\n",
    "    return b*n + m\n",
    "\n",
    "def W_m(n, b = 1, K = 10, m = 0):\n",
    "    return b*n/K*n\n",
    "\n",
    "K = 10\n",
    "m = 0.1\n",
    "b = 1\n",
    "\n",
    "population = np.arange(2*K+1)\n",
    "\n",
    "prob_pop = np.zeros(2*K+1)\n",
    "prob_pop[0] = 1\n",
    "\n",
    "for i in range(1, len(population)):\n",
    "    temp = 1\n",
    "    for j in range(i):\n",
    "        temp *= W_p(j, b, K, m)/W_m(j+1, b, K, m)\n",
    "    prob_pop[i] = temp\n",
    "\n",
    "normal = np.sum(prob_pop)\n",
    "\n",
    "prob_pop /= normal\n",
    "\n",
    "\n",
    "res, cov = optimize.curve_fit(norm, population, prob_pop, p0=[9, 1])\n",
    "\n",
    "\n",
    "plt.figure(figsize=(12,8))\n",
    "plt.plot(population, prob_pop, label='Experimental solution')\n",
    "plt.plot(population, norm(population, res[0], res[1]), label='Gaussian fit')\n",
    "\n",
    "plt.title(\"Stationary solution of ME\", fontsize=25)\n",
    "plt.xlabel(\"Number of individuals\", fontsize=15)\n",
    "plt.ylabel(\"P(n)\", fontsize=15)\n",
    "\n",
    "plt.xticks(np.linspace(0, 2*K, 2*K+1))\n",
    "plt.yticks(np.linspace(0, 0.15, 6), label = np.round(np.linspace(0, 0.15, 6), decimals = 2))\n",
    "\n",
    "plt.xlim([0, 2*K])\n",
    "plt.ylim([0, 0.15])\n",
    "\n",
    "\n",
    "plt.grid()\n",
    "\n",
    "plt.legend()\n",
    "plt.show()"
   ]
  },
  {
   "cell_type": "code",
   "execution_count": 26,
   "metadata": {},
   "outputs": [
    {
     "name": "stdout",
     "output_type": "stream",
     "text": [
      "The average population is: 8.945351944749246\n",
      "The std is: 3.2019797049736756\n",
      "\n",
      " [8.736627517466575 3.178950319464543]\n",
      "[[ 1.966349703493009e-03 -1.210890021044145e-06]\n",
      " [-1.210890021044145e-06  1.312766489579730e-03]]\n",
      "\n",
      "\n",
      "Printing some stuff to be properly reported in the pdf file:\n",
      "\n",
      "8.736627517466575 ± 0.04434354184650803\n",
      "3.1789503194645428 ± 0.03623211958442025\n"
     ]
    }
   ],
   "source": [
    "avg_pop = np.sum(prob_pop*population)\n",
    "std_pop = np.sqrt(np.sum(prob_pop*(population-avg_pop)**2))\n",
    "\n",
    "print(\"The average population is:\", avg_pop)\n",
    "print(\"The std is:\", std_pop)\n",
    "\n",
    "print(\"\\n\",res)\n",
    "print(cov, end=\"\\n\\n\")\n",
    "\n",
    "\n",
    "print(\"\\nPrinting some stuff to be properly reported in the pdf file:\\n\")\n",
    "print(res[0], \"±\", np.sqrt(cov[0][0]))\n",
    "print(res[1], \"±\", np.sqrt(cov[1][1]))"
   ]
  },
  {
   "cell_type": "code",
   "execution_count": 29,
   "metadata": {},
   "outputs": [
    {
     "name": "stdout",
     "output_type": "stream",
     "text": [
      "The Kullback-Leibler P|Q:  0.012650414260878111\n",
      "The Kullback-Leibler Q|P:  0.006837993218414257\n"
     ]
    }
   ],
   "source": [
    "# trying Kullback-Leibler\n",
    "D = np.sum(prob_pop*np.log2(prob_pop/norm(population, res[0], res[1])))\n",
    "print(\"The Kullback-Leibler P|Q: \", D)\n",
    "\n",
    "# trying \"Kullback-Leibler inverting distributions\n",
    "D1 = np.sum( norm(population, res[0], res[1]) *np.log2(norm(population, res[0], res[1])/prob_pop))\n",
    "print(\"The Kullback-Leibler Q|P: \", D1)"
   ]
  },
  {
   "cell_type": "code",
   "execution_count": null,
   "metadata": {},
   "outputs": [],
   "source": []
  }
 ],
 "metadata": {
  "kernelspec": {
   "display_name": "Python 3",
   "language": "python",
   "name": "python3"
  },
  "language_info": {
   "codemirror_mode": {
    "name": "ipython",
    "version": 3
   },
   "file_extension": ".py",
   "mimetype": "text/x-python",
   "name": "python",
   "nbconvert_exporter": "python",
   "pygments_lexer": "ipython3",
   "version": "3.6.5"
  }
 },
 "nbformat": 4,
 "nbformat_minor": 2
}
