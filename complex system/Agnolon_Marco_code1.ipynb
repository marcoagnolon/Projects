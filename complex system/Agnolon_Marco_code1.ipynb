{
 "cells": [
  {
   "cell_type": "code",
   "execution_count": 1,
   "metadata": {
    "colab": {
     "base_uri": "https://localhost:8080/",
     "height": 34
    },
    "colab_type": "code",
    "executionInfo": {
     "elapsed": 5068,
     "status": "ok",
     "timestamp": 1554389708547,
     "user": {
      "displayName": "il nano",
      "photoUrl": "https://lh6.googleusercontent.com/-heBLg35rn00/AAAAAAAAAAI/AAAAAAAAERE/DQP9H_ACCUU/s64/photo.jpg",
      "userId": "03453765899662729842"
     },
     "user_tz": -120
    },
    "id": "0ZRuc4Spte5W",
    "outputId": "685f7037-b8fb-407e-e619-ca4393fad136"
   },
   "outputs": [
    {
     "data": {
      "text/plain": [
       "'%.5f'"
      ]
     },
     "execution_count": 1,
     "metadata": {},
     "output_type": "execute_result"
    }
   ],
   "source": [
    "import matplotlib.pyplot as plt\n",
    "import numpy as np\n",
    "import pandas as pd \n",
    "from functools import reduce\n",
    "from numba import jit\n",
    "import networkx as nx\n",
    "\n",
    "%precision 5"
   ]
  },
  {
   "cell_type": "markdown",
   "metadata": {
    "colab_type": "text",
    "id": "Vr-5g4mlte5-"
   },
   "source": [
    "## TASK 1"
   ]
  },
  {
   "cell_type": "code",
   "execution_count": 2,
   "metadata": {
    "colab": {},
    "colab_type": "code",
    "id": "qXAz1nuYte6G"
   },
   "outputs": [],
   "source": [
    "df=pd.read_csv(\"bci05.csv\", usecols=['sp','status','gx','gy'])  #elimino colonne inutili\n",
    "df=df[df['status']=='A']    #tengo solo i vivi\n",
    "df.drop('status', axis=1, inplace=True)   #elimino colonna vivi/morti"
   ]
  },
  {
   "cell_type": "code",
   "execution_count": 3,
   "metadata": {
    "colab": {},
    "colab_type": "code",
    "id": "AjwAtrD4te6W",
    "scrolled": true
   },
   "outputs": [
    {
     "data": {
      "text/html": [
       "<div>\n",
       "<style scoped>\n",
       "    .dataframe tbody tr th:only-of-type {\n",
       "        vertical-align: middle;\n",
       "    }\n",
       "\n",
       "    .dataframe tbody tr th {\n",
       "        vertical-align: top;\n",
       "    }\n",
       "\n",
       "    .dataframe thead th {\n",
       "        text-align: right;\n",
       "    }\n",
       "</style>\n",
       "<table border=\"1\" class=\"dataframe\">\n",
       "  <thead>\n",
       "    <tr style=\"text-align: right;\">\n",
       "      <th></th>\n",
       "      <th>sp</th>\n",
       "      <th>gx</th>\n",
       "      <th>gy</th>\n",
       "    </tr>\n",
       "  </thead>\n",
       "  <tbody>\n",
       "    <tr>\n",
       "      <th>0</th>\n",
       "      <td>ACACME</td>\n",
       "      <td>610.0</td>\n",
       "      <td>104.7</td>\n",
       "    </tr>\n",
       "    <tr>\n",
       "      <th>1</th>\n",
       "      <td>ACACME</td>\n",
       "      <td>534.8</td>\n",
       "      <td>241.3</td>\n",
       "    </tr>\n",
       "    <tr>\n",
       "      <th>4</th>\n",
       "      <td>ACACME</td>\n",
       "      <td>282.7</td>\n",
       "      <td>177.5</td>\n",
       "    </tr>\n",
       "    <tr>\n",
       "      <th>5</th>\n",
       "      <td>ACACME</td>\n",
       "      <td>84.2</td>\n",
       "      <td>74.8</td>\n",
       "    </tr>\n",
       "    <tr>\n",
       "      <th>6</th>\n",
       "      <td>ACACME</td>\n",
       "      <td>149.9</td>\n",
       "      <td>389.8</td>\n",
       "    </tr>\n",
       "    <tr>\n",
       "      <th>7</th>\n",
       "      <td>ACACME</td>\n",
       "      <td>450.8</td>\n",
       "      <td>216.8</td>\n",
       "    </tr>\n",
       "    <tr>\n",
       "      <th>8</th>\n",
       "      <td>ACACME</td>\n",
       "      <td>606.4</td>\n",
       "      <td>105.6</td>\n",
       "    </tr>\n",
       "    <tr>\n",
       "      <th>9</th>\n",
       "      <td>ACACME</td>\n",
       "      <td>606.1</td>\n",
       "      <td>103.1</td>\n",
       "    </tr>\n",
       "    <tr>\n",
       "      <th>10</th>\n",
       "      <td>ACACME</td>\n",
       "      <td>606.3</td>\n",
       "      <td>102.4</td>\n",
       "    </tr>\n",
       "    <tr>\n",
       "      <th>11</th>\n",
       "      <td>ACACME</td>\n",
       "      <td>612.6</td>\n",
       "      <td>107.6</td>\n",
       "    </tr>\n",
       "    <tr>\n",
       "      <th>12</th>\n",
       "      <td>ACACME</td>\n",
       "      <td>141.4</td>\n",
       "      <td>190.1</td>\n",
       "    </tr>\n",
       "    <tr>\n",
       "      <th>13</th>\n",
       "      <td>ACACME</td>\n",
       "      <td>362.1</td>\n",
       "      <td>70.8</td>\n",
       "    </tr>\n",
       "    <tr>\n",
       "      <th>14</th>\n",
       "      <td>ACACME</td>\n",
       "      <td>544.6</td>\n",
       "      <td>326.4</td>\n",
       "    </tr>\n",
       "    <tr>\n",
       "      <th>15</th>\n",
       "      <td>ACACME</td>\n",
       "      <td>612.2</td>\n",
       "      <td>100.7</td>\n",
       "    </tr>\n",
       "    <tr>\n",
       "      <th>16</th>\n",
       "      <td>ACACME</td>\n",
       "      <td>612.0</td>\n",
       "      <td>101.4</td>\n",
       "    </tr>\n",
       "    <tr>\n",
       "      <th>17</th>\n",
       "      <td>ACACME</td>\n",
       "      <td>612.0</td>\n",
       "      <td>102.6</td>\n",
       "    </tr>\n",
       "    <tr>\n",
       "      <th>18</th>\n",
       "      <td>ACACME</td>\n",
       "      <td>614.5</td>\n",
       "      <td>103.0</td>\n",
       "    </tr>\n",
       "    <tr>\n",
       "      <th>19</th>\n",
       "      <td>ACACME</td>\n",
       "      <td>614.5</td>\n",
       "      <td>101.7</td>\n",
       "    </tr>\n",
       "    <tr>\n",
       "      <th>20</th>\n",
       "      <td>ACACME</td>\n",
       "      <td>610.2</td>\n",
       "      <td>105.4</td>\n",
       "    </tr>\n",
       "    <tr>\n",
       "      <th>21</th>\n",
       "      <td>ACACME</td>\n",
       "      <td>612.0</td>\n",
       "      <td>106.9</td>\n",
       "    </tr>\n",
       "    <tr>\n",
       "      <th>22</th>\n",
       "      <td>ACACME</td>\n",
       "      <td>612.0</td>\n",
       "      <td>106.1</td>\n",
       "    </tr>\n",
       "    <tr>\n",
       "      <th>23</th>\n",
       "      <td>ACACME</td>\n",
       "      <td>812.4</td>\n",
       "      <td>292.9</td>\n",
       "    </tr>\n",
       "    <tr>\n",
       "      <th>59</th>\n",
       "      <td>ACALDI</td>\n",
       "      <td>841.6</td>\n",
       "      <td>136.0</td>\n",
       "    </tr>\n",
       "    <tr>\n",
       "      <th>72</th>\n",
       "      <td>ACALDI</td>\n",
       "      <td>842.5</td>\n",
       "      <td>273.2</td>\n",
       "    </tr>\n",
       "    <tr>\n",
       "      <th>76</th>\n",
       "      <td>ACALDI</td>\n",
       "      <td>858.4</td>\n",
       "      <td>321.6</td>\n",
       "    </tr>\n",
       "    <tr>\n",
       "      <th>84</th>\n",
       "      <td>ACALDI</td>\n",
       "      <td>840.8</td>\n",
       "      <td>405.9</td>\n",
       "    </tr>\n",
       "    <tr>\n",
       "      <th>92</th>\n",
       "      <td>ACALDI</td>\n",
       "      <td>854.9</td>\n",
       "      <td>457.6</td>\n",
       "    </tr>\n",
       "    <tr>\n",
       "      <th>93</th>\n",
       "      <td>ACALDI</td>\n",
       "      <td>853.8</td>\n",
       "      <td>459.9</td>\n",
       "    </tr>\n",
       "    <tr>\n",
       "      <th>119</th>\n",
       "      <td>ACALDI</td>\n",
       "      <td>955.4</td>\n",
       "      <td>234.5</td>\n",
       "    </tr>\n",
       "    <tr>\n",
       "      <th>151</th>\n",
       "      <td>ACALDI</td>\n",
       "      <td>920.4</td>\n",
       "      <td>260.2</td>\n",
       "    </tr>\n",
       "    <tr>\n",
       "      <th>...</th>\n",
       "      <td>...</td>\n",
       "      <td>...</td>\n",
       "      <td>...</td>\n",
       "    </tr>\n",
       "    <tr>\n",
       "      <th>368072</th>\n",
       "      <td>ZUELGU</td>\n",
       "      <td>557.9</td>\n",
       "      <td>218.0</td>\n",
       "    </tr>\n",
       "    <tr>\n",
       "      <th>368077</th>\n",
       "      <td>ZUELGU</td>\n",
       "      <td>435.8</td>\n",
       "      <td>260.7</td>\n",
       "    </tr>\n",
       "    <tr>\n",
       "      <th>368078</th>\n",
       "      <td>ZUELGU</td>\n",
       "      <td>411.4</td>\n",
       "      <td>388.8</td>\n",
       "    </tr>\n",
       "    <tr>\n",
       "      <th>368081</th>\n",
       "      <td>ZUELGU</td>\n",
       "      <td>89.6</td>\n",
       "      <td>33.7</td>\n",
       "    </tr>\n",
       "    <tr>\n",
       "      <th>368082</th>\n",
       "      <td>ZUELGU</td>\n",
       "      <td>95.6</td>\n",
       "      <td>370.2</td>\n",
       "    </tr>\n",
       "    <tr>\n",
       "      <th>368085</th>\n",
       "      <td>ZUELGU</td>\n",
       "      <td>354.9</td>\n",
       "      <td>277.1</td>\n",
       "    </tr>\n",
       "    <tr>\n",
       "      <th>368086</th>\n",
       "      <td>ZUELGU</td>\n",
       "      <td>458.3</td>\n",
       "      <td>282.3</td>\n",
       "    </tr>\n",
       "    <tr>\n",
       "      <th>368089</th>\n",
       "      <td>ZUELGU</td>\n",
       "      <td>256.2</td>\n",
       "      <td>254.6</td>\n",
       "    </tr>\n",
       "    <tr>\n",
       "      <th>368090</th>\n",
       "      <td>ZUELGU</td>\n",
       "      <td>291.8</td>\n",
       "      <td>309.7</td>\n",
       "    </tr>\n",
       "    <tr>\n",
       "      <th>368091</th>\n",
       "      <td>ZUELGU</td>\n",
       "      <td>313.6</td>\n",
       "      <td>336.9</td>\n",
       "    </tr>\n",
       "    <tr>\n",
       "      <th>368093</th>\n",
       "      <td>ZUELGU</td>\n",
       "      <td>875.3</td>\n",
       "      <td>97.6</td>\n",
       "    </tr>\n",
       "    <tr>\n",
       "      <th>368097</th>\n",
       "      <td>ZUELGU</td>\n",
       "      <td>241.2</td>\n",
       "      <td>425.5</td>\n",
       "    </tr>\n",
       "    <tr>\n",
       "      <th>368099</th>\n",
       "      <td>ZUELGU</td>\n",
       "      <td>441.8</td>\n",
       "      <td>200.1</td>\n",
       "    </tr>\n",
       "    <tr>\n",
       "      <th>368101</th>\n",
       "      <td>ZUELGU</td>\n",
       "      <td>708.3</td>\n",
       "      <td>310.2</td>\n",
       "    </tr>\n",
       "    <tr>\n",
       "      <th>368104</th>\n",
       "      <td>ZUELGU</td>\n",
       "      <td>854.1</td>\n",
       "      <td>276.8</td>\n",
       "    </tr>\n",
       "    <tr>\n",
       "      <th>368107</th>\n",
       "      <td>ZUELGU</td>\n",
       "      <td>944.9</td>\n",
       "      <td>75.1</td>\n",
       "    </tr>\n",
       "    <tr>\n",
       "      <th>368108</th>\n",
       "      <td>ZUELGU</td>\n",
       "      <td>941.2</td>\n",
       "      <td>80.2</td>\n",
       "    </tr>\n",
       "    <tr>\n",
       "      <th>368109</th>\n",
       "      <td>ZUELGU</td>\n",
       "      <td>53.5</td>\n",
       "      <td>82.0</td>\n",
       "    </tr>\n",
       "    <tr>\n",
       "      <th>368110</th>\n",
       "      <td>ZUELGU</td>\n",
       "      <td>218.6</td>\n",
       "      <td>139.9</td>\n",
       "    </tr>\n",
       "    <tr>\n",
       "      <th>368111</th>\n",
       "      <td>ZUELGU</td>\n",
       "      <td>853.7</td>\n",
       "      <td>65.8</td>\n",
       "    </tr>\n",
       "    <tr>\n",
       "      <th>368112</th>\n",
       "      <td>ZUELGU</td>\n",
       "      <td>919.2</td>\n",
       "      <td>331.5</td>\n",
       "    </tr>\n",
       "    <tr>\n",
       "      <th>368113</th>\n",
       "      <td>ZUELGU</td>\n",
       "      <td>936.6</td>\n",
       "      <td>323.8</td>\n",
       "    </tr>\n",
       "    <tr>\n",
       "      <th>368114</th>\n",
       "      <td>ZUELGU</td>\n",
       "      <td>138.6</td>\n",
       "      <td>143.4</td>\n",
       "    </tr>\n",
       "    <tr>\n",
       "      <th>368115</th>\n",
       "      <td>ZUELGU</td>\n",
       "      <td>315.1</td>\n",
       "      <td>476.6</td>\n",
       "    </tr>\n",
       "    <tr>\n",
       "      <th>368116</th>\n",
       "      <td>ZUELGU</td>\n",
       "      <td>395.1</td>\n",
       "      <td>369.3</td>\n",
       "    </tr>\n",
       "    <tr>\n",
       "      <th>368117</th>\n",
       "      <td>ZUELGU</td>\n",
       "      <td>604.1</td>\n",
       "      <td>474.3</td>\n",
       "    </tr>\n",
       "    <tr>\n",
       "      <th>368118</th>\n",
       "      <td>ZUELGU</td>\n",
       "      <td>670.2</td>\n",
       "      <td>100.8</td>\n",
       "    </tr>\n",
       "    <tr>\n",
       "      <th>368119</th>\n",
       "      <td>ZUELGU</td>\n",
       "      <td>666.3</td>\n",
       "      <td>143.0</td>\n",
       "    </tr>\n",
       "    <tr>\n",
       "      <th>368120</th>\n",
       "      <td>ZUELGU</td>\n",
       "      <td>948.4</td>\n",
       "      <td>194.0</td>\n",
       "    </tr>\n",
       "    <tr>\n",
       "      <th>368121</th>\n",
       "      <td>ZUELGU</td>\n",
       "      <td>999.3</td>\n",
       "      <td>272.2</td>\n",
       "    </tr>\n",
       "  </tbody>\n",
       "</table>\n",
       "<p>208387 rows × 3 columns</p>\n",
       "</div>"
      ],
      "text/plain": [
       "            sp     gx     gy\n",
       "0       ACACME  610.0  104.7\n",
       "1       ACACME  534.8  241.3\n",
       "4       ACACME  282.7  177.5\n",
       "5       ACACME   84.2   74.8\n",
       "6       ACACME  149.9  389.8\n",
       "7       ACACME  450.8  216.8\n",
       "8       ACACME  606.4  105.6\n",
       "9       ACACME  606.1  103.1\n",
       "10      ACACME  606.3  102.4\n",
       "11      ACACME  612.6  107.6\n",
       "12      ACACME  141.4  190.1\n",
       "13      ACACME  362.1   70.8\n",
       "14      ACACME  544.6  326.4\n",
       "15      ACACME  612.2  100.7\n",
       "16      ACACME  612.0  101.4\n",
       "17      ACACME  612.0  102.6\n",
       "18      ACACME  614.5  103.0\n",
       "19      ACACME  614.5  101.7\n",
       "20      ACACME  610.2  105.4\n",
       "21      ACACME  612.0  106.9\n",
       "22      ACACME  612.0  106.1\n",
       "23      ACACME  812.4  292.9\n",
       "59      ACALDI  841.6  136.0\n",
       "72      ACALDI  842.5  273.2\n",
       "76      ACALDI  858.4  321.6\n",
       "84      ACALDI  840.8  405.9\n",
       "92      ACALDI  854.9  457.6\n",
       "93      ACALDI  853.8  459.9\n",
       "119     ACALDI  955.4  234.5\n",
       "151     ACALDI  920.4  260.2\n",
       "...        ...    ...    ...\n",
       "368072  ZUELGU  557.9  218.0\n",
       "368077  ZUELGU  435.8  260.7\n",
       "368078  ZUELGU  411.4  388.8\n",
       "368081  ZUELGU   89.6   33.7\n",
       "368082  ZUELGU   95.6  370.2\n",
       "368085  ZUELGU  354.9  277.1\n",
       "368086  ZUELGU  458.3  282.3\n",
       "368089  ZUELGU  256.2  254.6\n",
       "368090  ZUELGU  291.8  309.7\n",
       "368091  ZUELGU  313.6  336.9\n",
       "368093  ZUELGU  875.3   97.6\n",
       "368097  ZUELGU  241.2  425.5\n",
       "368099  ZUELGU  441.8  200.1\n",
       "368101  ZUELGU  708.3  310.2\n",
       "368104  ZUELGU  854.1  276.8\n",
       "368107  ZUELGU  944.9   75.1\n",
       "368108  ZUELGU  941.2   80.2\n",
       "368109  ZUELGU   53.5   82.0\n",
       "368110  ZUELGU  218.6  139.9\n",
       "368111  ZUELGU  853.7   65.8\n",
       "368112  ZUELGU  919.2  331.5\n",
       "368113  ZUELGU  936.6  323.8\n",
       "368114  ZUELGU  138.6  143.4\n",
       "368115  ZUELGU  315.1  476.6\n",
       "368116  ZUELGU  395.1  369.3\n",
       "368117  ZUELGU  604.1  474.3\n",
       "368118  ZUELGU  670.2  100.8\n",
       "368119  ZUELGU  666.3  143.0\n",
       "368120  ZUELGU  948.4  194.0\n",
       "368121  ZUELGU  999.3  272.2\n",
       "\n",
       "[208387 rows x 3 columns]"
      ]
     },
     "execution_count": 3,
     "metadata": {},
     "output_type": "execute_result"
    }
   ],
   "source": [
    "# to show the dataframe uncomment the following line:\n",
    "df"
   ]
  },
  {
   "cell_type": "code",
   "execution_count": 5,
   "metadata": {
    "colab": {
     "base_uri": "https://localhost:8080/",
     "height": 34
    },
    "colab_type": "code",
    "executionInfo": {
     "elapsed": 1046,
     "status": "ok",
     "timestamp": 1554389788185,
     "user": {
      "displayName": "il nano",
      "photoUrl": "https://lh6.googleusercontent.com/-heBLg35rn00/AAAAAAAAAAI/AAAAAAAAERE/DQP9H_ACCUU/s64/photo.jpg",
      "userId": "03453765899662729842"
     },
     "user_tz": -120
    },
    "id": "gScHMLX3te6i",
    "outputId": "959fd9b6-ed27-42e8-ad55-fff3d4d48c79"
   },
   "outputs": [
    {
     "name": "stdout",
     "output_type": "stream",
     "text": [
      "The total number of species is:  299\n"
     ]
    }
   ],
   "source": [
    "# counting the total number of species\n",
    "number_species=df['sp'].nunique()\n",
    "print('The total number of species is: ', number_species)"
   ]
  },
  {
   "cell_type": "code",
   "execution_count": 6,
   "metadata": {
    "colab": {},
    "colab_type": "code",
    "id": "g9Bfr0K0te60"
   },
   "outputs": [],
   "source": [
    "# renaming spiecies with their number\n",
    "species = np.unique(df['sp'])\n",
    "df = df.replace({'sp':dict(zip(species, np.arange(number_species)) ) }) "
   ]
  },
  {
   "cell_type": "markdown",
   "metadata": {
    "colab_type": "text",
    "id": "1GK0iZymte6_"
   },
   "source": [
    "## TASK 2"
   ]
  },
  {
   "cell_type": "code",
   "execution_count": 7,
   "metadata": {
    "colab": {},
    "colab_type": "code",
    "id": "oqlDtdN6te7D"
   },
   "outputs": [],
   "source": [
    "# dividing in 200 zones and creating a dataframe for every subplot\n",
    "def subplotter(n, xdim=50, ydim=50):\n",
    "    \n",
    "    nx=n%(1000/xdim)                  #coordinata cella orizzontale scelta (da 0 a 1000/xdim-1)\n",
    "    ny=n//(1000/xdim)                 #coordinata cella verticale scelta (da 0 a 500/ydim-1)\n",
    "\n",
    "    #print(nx, ny)\n",
    "    \n",
    "    return df[(xdim*nx<=df['gx']) & (df['gx'] < xdim*(nx+1) ) & \n",
    "              (ydim*ny<=df['gy']) & (df['gy']<(ny+1)*ydim)]\n"
   ]
  },
  {
   "cell_type": "code",
   "execution_count": 8,
   "metadata": {
    "colab": {
     "base_uri": "https://localhost:8080/",
     "height": 34
    },
    "colab_type": "code",
    "executionInfo": {
     "elapsed": 1331,
     "status": "ok",
     "timestamp": 1554389833509,
     "user": {
      "displayName": "il nano",
      "photoUrl": "https://lh6.googleusercontent.com/-heBLg35rn00/AAAAAAAAAAI/AAAAAAAAERE/DQP9H_ACCUU/s64/photo.jpg",
      "userId": "03453765899662729842"
     },
     "user_tz": -120
    },
    "id": "EcotzGIZte7N",
    "outputId": "94aa637e-706d-4adb-acd4-942fae7345d3"
   },
   "outputs": [
    {
     "data": {
      "text/plain": [
       "True"
      ]
     },
     "execution_count": 8,
     "metadata": {},
     "output_type": "execute_result"
    }
   ],
   "source": [
    "#controllo siano tutte comprese\n",
    "\n",
    "c=0\n",
    "for i in range(200):\n",
    "    c+=len(subplotter(i))\n",
    "    \n",
    "c==len(df)"
   ]
  },
  {
   "cell_type": "code",
   "execution_count": 9,
   "metadata": {
    "colab": {},
    "colab_type": "code",
    "id": "Sc4Ow0JHte7d"
   },
   "outputs": [],
   "source": [
    "#creo una lista contenente ciascun dataframe che rappresenta un diverso subplot\n",
    "#nel quale vengono contate le volte che compare una certa specie\n",
    "\n",
    "sub=[i for i in range(201)] #inizializzo la lista\n",
    "sub[0]=pd.DataFrame(np.zeros(number_species)).rename(index=str, columns={0:'00'}) #indispenabile per mantenere tutti gli indici nel dataframe finale (joint infatti costruisce basandosi sul parametro how=left)\n",
    "\n",
    "for i in range(200):\n",
    "    # subplotter gives the species (renamed with a progressive number in the previous cells),\n",
    "    # subplotter.sp.value_counts() gives the number of individuals of that species (sorted in descending order)\n",
    "    # pd.DataFrame.sort_index(...) sort the content w.r.t. the index, so in our case the\n",
    "    #     subplotter.sp.value_counts() is re-ordered by index, and so by species, and not in\n",
    "    #     based on the frequancy of the species\n",
    "    # pd.Dataframe(...).rename(...{'sp':i}) rename the column of the current DataFrame (which\n",
    "    #     is called 'sp' and it is no more useful because now we want the subplot information)\n",
    "    #     with the subplot number\n",
    "    # all this stuff is saved at position i+1 of 'sub'\n",
    "    sub[i+1]=pd.DataFrame(pd.DataFrame.sort_index((subplotter(i).sp.value_counts()))).rename(index=str, columns={'sp':i})   #conto esemplari di stess specie nel dataframe\n",
    "    \n"
   ]
  },
  {
   "cell_type": "code",
   "execution_count": 10,
   "metadata": {
    "colab": {},
    "colab_type": "code",
    "id": "kCUASPx0te7r"
   },
   "outputs": [],
   "source": [
    "#concateno i dataframe creati \n",
    "\n",
    "# reduce is a function that acts recursively on the list given\n",
    "vectors=reduce(lambda x, y: pd.DataFrame.join(x,y), sub)\n",
    "\n",
    "# Filling nan with 0s (python places \"nan\" to fill \"void\" positions when adding)\n",
    "vectors.fillna(0, inplace=True)\n",
    "# eliminating first column: it was used to assure that all the species were present every time we\n",
    "#     added a plot in sub all species was present (python gives \"nan\" to fill void positions when adding)\n",
    "vectors.drop('00',axis=1,inplace=True)\n",
    "# renaming dataframe columns\n",
    "vectors.rename_axis(\"species\", inplace=True)\n",
    "vectors.rename_axis(\"subplot\", axis=\"columns\", inplace=True)\n",
    "\n",
    "# to show the matrix of subplots and their content uncomment the following line\n",
    "#vectors"
   ]
  },
  {
   "cell_type": "code",
   "execution_count": 11,
   "metadata": {
    "colab": {},
    "colab_type": "code",
    "id": "SJoxhYqXte75"
   },
   "outputs": [],
   "source": [
    "#faccio le medie per ogni specie sul numero di subplot (presenza media)\n",
    "\n",
    "#average_presence=pd.DataFrame(vectors.mean(axis=1))\n",
    "\n",
    "#faccio la media delle presenze nei subplot di ciascuna specie\n",
    "average_presence=np.zeros(299)\n",
    "for i in range(299):\n",
    "    average_presence[i]=np.count_nonzero(vectors.iloc[i])/200\n",
    "\n",
    "# trasforming to dataframe\n",
    "average_presence=pd.DataFrame(average_presence)\n",
    "\n",
    "average_presence.rename(index=str, columns={0:'average presence p'}, inplace=True)\n",
    "\n",
    "# to show the vector of the average presence uncomment the following line\n",
    "#average_presence"
   ]
  },
  {
   "cell_type": "markdown",
   "metadata": {
    "colab_type": "text",
    "id": "Kkqyp4Uwte8G"
   },
   "source": [
    "## TASK 3"
   ]
  },
  {
   "cell_type": "markdown",
   "metadata": {
    "colab_type": "text",
    "id": "lKXsxEAute8O"
   },
   "source": [
    "The probability given by the max-entropy principle is given by:\n",
    "$$ P(\\vec{\\sigma})=\\frac{1}{Z}e^{-\\sum_{i=1}^S \\lambda_i \\sigma_i} $$\n",
    "\n",
    "Then, the partition function is the following:\n",
    "$$ Z = 2^S \\prod_{i=1}^S \\cosh(\\lambda_i) $$\n",
    "\n",
    "The theoretical average is:\n",
    "$$ m_j = \\langle \\sigma_j \\rangle_{model} = -\\frac{\\partial \\log(Z)}{\\partial \\lambda_j}=-\\tanh(\\lambda_j) \\implies \\lambda_j = - \\tanh^{-1}(m_j) $$\n",
    "\n",
    "Inserting this in the partition function we obtain:\n",
    "$$ Z=2^S \\prod_{i=1}^S \\cosh \\left( \\tanh^{-1} \\lambda_i \\right) $$"
   ]
  },
  {
   "cell_type": "code",
   "execution_count": null,
   "metadata": {
    "colab": {
     "base_uri": "https://localhost:8080/",
     "height": 623
    },
    "colab_type": "code",
    "executionInfo": {
     "elapsed": 1447,
     "status": "ok",
     "timestamp": 1554389878439,
     "user": {
      "displayName": "il nano",
      "photoUrl": "https://lh6.googleusercontent.com/-heBLg35rn00/AAAAAAAAAAI/AAAAAAAAERE/DQP9H_ACCUU/s64/photo.jpg",
      "userId": "03453765899662729842"
     },
     "user_tz": -120
    },
    "id": "89MusSW3te8S",
    "outputId": "314201b3-c080-4bc5-c38d-020284ae6685"
   },
   "outputs": [],
   "source": [
    "### evaluating the \"magnetization\"\n",
    "magn_sper=np.array(average_presence['average presence p'])*2-1\n",
    "plt.figure(figsize=(10,10))\n",
    "plt.plot(np.arange(number_species),magn_sper, label='Magnetization')\n",
    "plt.ylim(-1.25, 1.25)\n",
    "plt.xlabel('Species')\n",
    "plt.ylabel('Magnetiztion')\n",
    "plt.legend()\n",
    "plt.show()\n",
    "\n",
    "print(\"The species that are present in every plot are:\", np.where(magn_sper==1))"
   ]
  },
  {
   "cell_type": "code",
   "execution_count": 13,
   "metadata": {
    "colab": {
     "base_uri": "https://localhost:8080/",
     "height": 71
    },
    "colab_type": "code",
    "executionInfo": {
     "elapsed": 1342,
     "status": "ok",
     "timestamp": 1554389893009,
     "user": {
      "displayName": "il nano",
      "photoUrl": "https://lh6.googleusercontent.com/-heBLg35rn00/AAAAAAAAAAI/AAAAAAAAERE/DQP9H_ACCUU/s64/photo.jpg",
      "userId": "03453765899662729842"
     },
     "user_tz": -120
    },
    "id": "s15TIAGzte8j",
    "outputId": "39c94e98-418e-40a8-c21c-3cc9f84a5141"
   },
   "outputs": [
    {
     "name": "stderr",
     "output_type": "stream",
     "text": [
      "/home/tommaso/anaconda3/lib/python3.7/site-packages/ipykernel_launcher.py:2: RuntimeWarning: divide by zero encountered in arctanh\n",
      "  \n"
     ]
    }
   ],
   "source": [
    "# evaluating λ coefficients\n",
    "lambda_=np.arctanh(magn_sper)\n",
    "lambda1=pd.DataFrame(lambda_).rename(index=str, columns={0:'$\\lambda$'}).rename_axis(\"species\")\n",
    "\n",
    "\n",
    "# to show the λ coefficients uncomment the following line\n",
    "#lambda1"
   ]
  },
  {
   "cell_type": "code",
   "execution_count": 14,
   "metadata": {
    "colab": {
     "base_uri": "https://localhost:8080/",
     "height": 610
    },
    "colab_type": "code",
    "executionInfo": {
     "elapsed": 1957,
     "status": "ok",
     "timestamp": 1554389900628,
     "user": {
      "displayName": "il nano",
      "photoUrl": "https://lh6.googleusercontent.com/-heBLg35rn00/AAAAAAAAAAI/AAAAAAAAERE/DQP9H_ACCUU/s64/photo.jpg",
      "userId": "03453765899662729842"
     },
     "user_tz": -120
    },
    "id": "c1se6Uyete83",
    "outputId": "a21931d4-1e41-4c88-8d72-fefd9e65bd98"
   },
   "outputs": [
    {
     "data": {
      "image/png": "[encoded data removed]",
      "text/plain": [
       "<Figure size 720x720 with 1 Axes>"
      ]
     },
     "metadata": {
      "needs_background": "light"
     },
     "output_type": "display_data"
    }
   ],
   "source": [
    "# plotting λs\n",
    "plt.figure(figsize=(10,10))\n",
    "plt.plot(np.arange(number_species),lambda1, label='lambda')\n",
    "plt.xlabel('Species')\n",
    "plt.ylabel('lambda')\n",
    "plt.ylim(-4, 4)\n",
    "plt.legend()\n",
    "plt.show()"
   ]
  },
  {
   "cell_type": "code",
   "execution_count": 128,
   "metadata": {
    "colab": {
     "base_uri": "https://localhost:8080/",
     "height": 337
    },
    "colab_type": "code",
    "executionInfo": {
     "elapsed": 1729,
     "status": "ok",
     "timestamp": 1554389906455,
     "user": {
      "displayName": "il nano",
      "photoUrl": "https://lh6.googleusercontent.com/-heBLg35rn00/AAAAAAAAAAI/AAAAAAAAERE/DQP9H_ACCUU/s64/photo.jpg",
      "userId": "03453765899662729842"
     },
     "user_tz": -120
    },
    "id": "M6zRC4jB1_NP",
    "outputId": "9477c40e-4780-426e-cf7d-5d5392b38d76"
   },
   "outputs": [
    {
     "data": {
      "image/png": "[encoded data removed]",
      "text/plain": [
       "<Figure size 360x360 with 1 Axes>"
      ]
     },
     "metadata": {
      "needs_background": "light"
     },
     "output_type": "display_data"
    }
   ],
   "source": [
    "fig1, (ax1) = plt.subplots(figsize=(5, 5))\n",
    "\n",
    "ax1.boxplot(np.array(lambda1.values), vert = False)\n",
    "\n",
    "ax1.plot( 0, 1, marker='*', markersize=20 )\n",
    "\n",
    "ax1.set_title('λ\\'s distribution', fontsize=15)\n",
    "ax1.set_yticks([])\n",
    "\n",
    "            \n",
    "plt.show()"
   ]
  },
  {
   "cell_type": "markdown",
   "metadata": {
    "colab_type": "text",
    "id": "ZXfZMwhtte9H"
   },
   "source": [
    "## TASK 4"
   ]
  },
  {
   "cell_type": "markdown",
   "metadata": {
    "colab_type": "text",
    "id": "fyN9TTM9te9L"
   },
   "source": [
    "### Starting to implement Metropolis"
   ]
  },
  {
   "cell_type": "code",
   "execution_count": 16,
   "metadata": {
    "colab": {
     "base_uri": "https://localhost:8080/",
     "height": 34
    },
    "colab_type": "code",
    "executionInfo": {
     "elapsed": 1347,
     "status": "ok",
     "timestamp": 1554389912805,
     "user": {
      "displayName": "il nano",
      "photoUrl": "https://lh6.googleusercontent.com/-heBLg35rn00/AAAAAAAAAAI/AAAAAAAAERE/DQP9H_ACCUU/s64/photo.jpg",
      "userId": "03453765899662729842"
     },
     "user_tz": -120
    },
    "id": "8t5sFHnLte9Q",
    "outputId": "c561f332-3d8e-47d3-9bc0-7a88f74f48f1"
   },
   "outputs": [
    {
     "data": {
      "text/plain": [
       "6377.16000"
      ]
     },
     "execution_count": 16,
     "metadata": {},
     "output_type": "execute_result"
    }
   ],
   "source": [
    "# evaluating the constraint: <(S+ - S-)²>\n",
    "sp_sm=0\n",
    "\n",
    "for i in range(200):\n",
    "    s_p=np.count_nonzero(vectors[i])\n",
    "    s_m=299-s_p\n",
    "    sp_sm+=(s_p-s_m)**2\n",
    "\n",
    "sp_sm=sp_sm/200\n",
    "sp_sm"
   ]
  },
  {
   "cell_type": "code",
   "execution_count": 17,
   "metadata": {
    "colab": {},
    "colab_type": "code",
    "id": "fhPN_QBRte9r"
   },
   "outputs": [],
   "source": [
    "@jit\n",
    "def energy(λ, K, configuration):\n",
    "    return -np.sum(λ*configuration)-K/(len(configuration))*np.sum(configuration)**2\n",
    "    #return -np.sum(λ*configuration)-K*np.sum(configuration)**2\n",
    "\n",
    "# Defining metropolis functions to generate some configurations:\n",
    "# Parameters are:\n",
    "# - λ      = vectors of coefficients\n",
    "# - number = number of configurations to be generated\n",
    "# - dim    = number of spins in x dimension\n",
    "\n",
    "# N.B.: λ parameter should have the same dimension of dimx*dimy because it represents\n",
    "#       local fields for every σ_i\n",
    "\n",
    "@jit\n",
    "def metropolis_sample(λ, K, number=30000, dim=299)\n",
    "    config_list = np.zeros(shape=(number,dim))\n",
    "    energy_list = np.zeros(number)\n",
    "\n",
    "    # starting from a random configuration\n",
    "    config = np.random.randint(low=0, high=2, size=dim)\n",
    "    # replacing 0 with -1\n",
    "    config[config==0] = -1\n",
    "    cont = 0\n",
    "    while cont < number:\n",
    "        # choosing new config\n",
    "        new_config = config.copy()\n",
    "        new_config[np.random.randint(0, dim)] *= (-1)\n",
    "        # N.B.: CONVENTIONALLY, β=1\n",
    "        β = 1\n",
    "        energy_list[cont] = energy(λ, K, config)\n",
    "        δE = energy(λ, K, new_config) - energy(λ, K, config)\n",
    "        prob_change = min(1, np.exp( -β*δE ))\n",
    "\n",
    "        #if prob_change != 1:\n",
    "        if np.random.uniform(0, 1)<prob_change:\n",
    "            config = new_config.copy()\n",
    "        #else:\n",
    "        #    config = new_config.copy()\n",
    "\n",
    "        config_list[cont] = config\n",
    "        cont+=1\n",
    "    #return [config_list, energy_list]\n",
    "    return [config_list[int(-number/5):], energy_list[int(-number/5):]]"
   ]
  },
  {
   "cell_type": "code",
   "execution_count": 18,
   "metadata": {
    "colab": {},
    "colab_type": "code",
    "id": "8ILgKEkSte9_"
   },
   "outputs": [],
   "source": [
    "# using previous λ to initialize the algorithm (we are changing the +∞)\n",
    "λ_0 = lambda1.values.copy()\n",
    "λ_0[np.isinf(λ_0)] = 10000\n",
    "λ_0 = λ_0.T[0]\n",
    "\n",
    "# uncomment the following line to show the vector of λ_0 just created\n",
    "#print(λ_0)"
   ]
  },
  {
   "cell_type": "code",
   "execution_count": 19,
   "metadata": {
    "colab": {},
    "colab_type": "code",
    "id": "LyGXwihCte-U"
   },
   "outputs": [],
   "source": [
    "# defyning ADAMS algorithm (a different algorithm for gradient descent)\n",
    "def ADAMS(λ, K, g, m, s, g1, s1, m1, t, β1=0.9, β2=0.99, ε=10**(-8), η=10**(-3)):\n",
    "    m = β1*m + (1-β1)*g\n",
    "    s = β2*s + (1-β2)*g**2\n",
    "    m_avg = m/(1-β1**t)\n",
    "    s_avg = s/(1-β2**t)\n",
    "    λ = λ - η*m_avg/((s_avg)**(1/2)+ε)\n",
    "    \n",
    "    m1 = β1*m1 + (1-β1)*g1\n",
    "    s1 = β2*s1 + (1-β2)*g1**2\n",
    "    m1_avg = m1/(1-β1**t)\n",
    "    s1_avg = s1/(1-β2**t)\n",
    "    K = K - η*m1_avg/((s1_avg)**(1/2)+ε)\n",
    "    \n",
    "    return λ, K, g, g1, m, m1, s, s1"
   ]
  },
  {
   "cell_type": "code",
   "execution_count": 20,
   "metadata": {
    "colab": {
     "base_uri": "https://localhost:8080/",
     "height": 9299
    },
    "colab_type": "code",
    "executionInfo": {
     "elapsed": 318085,
     "status": "ok",
     "timestamp": 1554390240248,
     "user": {
      "displayName": "il nano",
      "photoUrl": "https://lh6.googleusercontent.com/-heBLg35rn00/AAAAAAAAAAI/AAAAAAAAERE/DQP9H_ACCUU/s64/photo.jpg",
      "userId": "03453765899662729842"
     },
     "user_tz": -120
    },
    "id": "zeI7Bbthte-e",
    "outputId": "6abb5164-77af-47f6-e5a4-88b10af82796",
    "scrolled": true
   },
   "outputs": [
    {
     "name": "stdout",
     "output_type": "stream",
     "text": [
      "\n",
      "Iteration n.: 51\n",
      "constr λ_theo:\n",
      " [-1.      -0.88167 -0.815   -0.83467 -1.      -0.94067 -1.      -0.84333\n",
      " -0.67367 -0.89267]\n",
      "λ_updated:\n",
      " [-1.28728 -1.19697 -1.26566 -1.20923 -1.19697 -1.19697 -1.32737 -1.19697\n",
      " -1.19697 -1.19697]\n",
      "constr K_theo: 258.34577926421406\n",
      "Constr K sperim: 21.32829431438127\n",
      "K_updated:\n",
      " 0.2247500388867945\n",
      "\n",
      "Number of 'spin' +1 is: 9\n",
      "\n",
      "Iteration n.: 101\n",
      "constr λ_theo:\n",
      " [-0.547   -0.489   -0.82033 -0.74467 -0.533   -0.53367 -1.      -0.00833\n",
      " -0.65733 -0.80367]\n",
      "λ_updated:\n",
      " [-1.29394 -0.83453 -1.13816 -0.87675 -0.99853 -0.83453 -1.43544 -0.83453\n",
      " -0.83453 -0.83453]\n",
      "constr K_theo: 142.97907246376812\n",
      "Constr K sperim: 21.32829431438127\n",
      "K_updated:\n",
      " -0.1376926204289722\n",
      "\n",
      "Number of 'spin' +1 is: 63\n",
      "\n",
      "Iteration n.: 151\n",
      "constr λ_theo:\n",
      " [-0.865    0.38267 -0.279    0.018   -0.81633 -0.08233 -0.88233 -0.16367\n",
      " -0.58333  0.23933]\n",
      "λ_updated:\n",
      " [-1.49682 -0.41229 -1.29128 -0.8294  -1.03188 -0.5155  -1.70554 -0.41229\n",
      " -0.719   -0.41229]\n",
      "constr K_theo: 52.98656856187291\n",
      "Constr K sperim: 21.32829431438127\n",
      "K_updated:\n",
      " -0.5599282463297873\n",
      "\n",
      "Number of 'spin' +1 is: 82\n",
      "\n",
      "Iteration n.: 201\n",
      "constr λ_theo:\n",
      " [-0.37833  0.27133 -0.279   -0.72233 -0.36667  0.55367 -0.855    0.72433\n",
      " -0.687    0.38633]\n",
      "λ_updated:\n",
      " [-1.64197 -0.08575 -1.52699 -0.86551 -1.14171 -0.44259 -1.88614 -0.19553\n",
      " -0.82649  0.0423 ]\n",
      "constr K_theo: 22.418260869565216\n",
      "Constr K sperim: 21.32829431438127\n",
      "K_updated:\n",
      " -1.014519998809372\n",
      "\n",
      "Number of 'spin' +1 is: 103\n",
      "\n",
      "Iteration n.: 251\n",
      "constr λ_theo:\n",
      " [-0.986    0.54167 -0.80367 -0.35633 -0.637   -0.233   -0.97767  0.28667\n",
      " -0.05967  0.97233]\n",
      "λ_updated:\n",
      " [-1.69814 -0.08603 -1.58327 -0.97873 -1.19778 -0.49981 -2.03793 -0.15774\n",
      " -0.90188  0.4963 ]\n",
      "constr K_theo: 20.707835005574136\n",
      "Constr K sperim: 21.32829431438127\n",
      "K_updated:\n",
      " -0.9951249635348467\n",
      "\n",
      "Number of 'spin' +1 is: 114\n",
      "\n",
      "Iteration n.: 301\n",
      "constr λ_theo:\n",
      " [-0.89133  0.56367 -0.467    0.067   -0.822    0.08133 -0.72     0.523\n",
      " -0.41033  0.86833]\n",
      "λ_updated:\n",
      " [-1.71723 -0.00876 -1.58345 -0.95909 -1.23671 -0.51921 -2.07651 -0.1194\n",
      " -0.78566  0.94143]\n",
      "constr K_theo: 22.743357859531773\n",
      "Constr K sperim: 21.32829431438127\n",
      "K_updated:\n",
      " -0.9176104808507651\n",
      "\n",
      "Number of 'spin' +1 is: 109\n",
      "\n",
      "Iteration n.: 351\n",
      "constr λ_theo:\n",
      " [-1.       0.33633 -0.76867 -0.782   -0.61167  0.34767 -1.       0.52567\n",
      " -0.797    0.91933]\n",
      "λ_updated:\n",
      " [-1.65823 -0.04813 -1.5638  -0.9785  -1.19727 -0.42118 -2.00759 -0.08021\n",
      " -0.7664   1.22582]\n",
      "constr K_theo: 19.66091861761427\n",
      "Constr K sperim: 21.32829431438127\n",
      "K_updated:\n",
      " -0.8195232663520001\n",
      "\n",
      "Number of 'spin' +1 is: 111\n",
      "\n",
      "Iteration n.: 401\n",
      "constr λ_theo:\n",
      " [-0.89833  0.57267 -0.85133 -0.733   -0.803   -0.158   -1.       0.149\n",
      " -0.487    1.     ]\n",
      "λ_updated:\n",
      " [-1.63838  0.05038 -1.62297 -0.8007  -1.11831 -0.30248 -1.90857 -0.02086\n",
      " -0.62796  1.41361]\n",
      "constr K_theo: 21.111670011148274\n",
      "Constr K sperim: 21.32829431438127\n",
      "K_updated:\n",
      " -0.7404524649119755\n",
      "\n",
      "Number of 'spin' +1 is: 107\n",
      "\n",
      "Iteration n.: 451\n",
      "constr λ_theo:\n",
      " [-0.90467  0.51767 -0.899    0.065   -0.75767 -0.28167 -1.       0.53567\n",
      " -0.38667  0.906  ]\n",
      "λ_updated:\n",
      " [-1.55890e+00  1.69498e-01 -1.42433e+00 -7.41055e-01 -1.11833e+00\n",
      " -3.22301e-01 -1.92838e+00 -9.94085e-04 -6.67700e-01  1.62215e+00]\n",
      "constr K_theo: 21.554680044593088\n",
      "Constr K sperim: 21.32829431438127\n",
      "K_updated:\n",
      " -0.680948241789801\n",
      "\n",
      "Number of 'spin' +1 is: 105\n",
      "\n",
      "Iteration n.: 501\n",
      "constr λ_theo:\n",
      " [-0.79967  0.53967 -0.65767 -0.24133 -0.01367  0.256   -0.96133  0.119\n",
      " -0.13567  0.889  ]\n",
      "λ_updated:\n",
      " [-1.51907  0.20934 -1.46419 -0.82074 -1.01879 -0.30237 -1.94827  0.11846\n",
      " -0.66763  1.77149]\n",
      "constr K_theo: 22.991121516164995\n",
      "Constr K sperim: 21.32829431438127\n",
      "K_updated:\n",
      " -0.5415587511962467\n",
      "\n",
      "Number of 'spin' +1 is: 107\n",
      "\n",
      "Iteration n.: 551\n",
      "constr λ_theo:\n",
      " [-0.998    0.21067 -0.99133 -0.70167 -0.529   -0.42267 -1.       0.683\n",
      " -0.373    0.909  ]\n",
      "λ_updated:\n",
      " [-1.47912  0.24927 -1.46416 -0.78082 -1.03876 -0.22258 -1.8485   0.15833\n",
      " -0.54797  1.86126]\n",
      "constr K_theo: 21.705373467112597\n",
      "Constr K sperim: 21.32829431438127\n",
      "K_updated:\n",
      " -0.4418047430284421\n",
      "\n",
      "Number of 'spin' +1 is: 109\n",
      "\n",
      "Iteration n.: 601\n",
      "constr λ_theo:\n",
      " [-0.79033  0.668   -0.39533 -0.687   -0.56867  0.12867 -0.94633  0.347\n",
      " -0.15733  1.     ]\n",
      "λ_updated:\n",
      " [-1.559    0.26919 -1.44422 -0.68099 -0.91894 -0.22257 -1.86845  0.17831\n",
      " -0.54795  1.98107]\n",
      "constr K_theo: 21.482617614269788\n",
      "Constr K sperim: 21.32829431438127\n",
      "K_updated:\n",
      " -0.38188794203832105\n",
      "\n",
      "Number of 'spin' +1 is: 100\n",
      "\n",
      "Iteration n.: 651\n",
      "constr λ_theo:\n",
      " [-0.815    0.20667 -0.488   -0.38867 -0.68367  0.37667 -1.       0.74133\n",
      " -0.415    1.     ]\n",
      "λ_updated:\n",
      " [-1.61893  0.34913 -1.3643  -0.61105 -0.91894 -0.22258 -1.84848  0.17831\n",
      " -0.42806  2.09096]\n",
      "constr K_theo: 18.657627647714605\n",
      "Constr K sperim: 21.32829431438127\n",
      "K_updated:\n",
      " -0.32194486260962507\n",
      "\n",
      "Number of 'spin' +1 is: 116\n",
      "\n",
      "Iteration n.: 701\n",
      "constr λ_theo:\n",
      " [-1.       0.42867 -0.62333 -0.074   -0.48867  0.04233 -0.89467  0.54133\n",
      " -0.35667  1.     ]\n",
      "λ_updated:\n",
      " [-1.43903  0.42909 -1.26436 -0.57107 -0.89896 -0.14263 -1.88846  0.27826\n",
      " -0.42805  2.16092]\n",
      "constr K_theo: 20.335313266443702\n",
      "Constr K sperim: 21.32829431438127\n",
      "K_updated:\n",
      " -0.20201464476223474\n",
      "\n",
      "Number of 'spin' +1 is: 114\n",
      "\n",
      "Iteration n.: 751\n",
      "constr λ_theo:\n",
      " [-0.945    0.37467 -1.      -0.64767 -0.493   -0.07333 -1.       0.356\n",
      "  0.04033  1.     ]\n",
      "λ_updated:\n",
      " [-1.37905  0.38911 -1.24437 -0.59107 -0.81898 -0.06266 -1.74851  0.33824\n",
      " -0.38807  2.2209 ]\n",
      "constr K_theo: 20.883125975473803\n",
      "Constr K sperim: 21.32829431438127\n",
      "K_updated:\n",
      " -0.10204652618279192\n",
      "\n",
      "Number of 'spin' +1 is: 115\n",
      "\n",
      "Iteration n.: 801\n",
      "constr λ_theo:\n",
      " [-0.691    0.237   -0.98567 -0.83633 -0.70867  0.18567 -0.474   -0.02333\n",
      " -0.33     1.     ]\n",
      "λ_updated:\n",
      " [-1.27907  0.52909 -1.16438 -0.51108 -0.72901 -0.08266 -1.62854  0.41822\n",
      " -0.34808  2.33088]\n",
      "constr K_theo: 19.54841917502787\n",
      "Constr K sperim: 21.32829431438127\n",
      "K_updated:\n",
      " -0.04205902295212413\n",
      "\n",
      "Number of 'spin' +1 is: 107\n",
      "\n",
      "Iteration n.: 851\n",
      "constr λ_theo:\n",
      " [-0.709    0.32333 -0.85367 -0.41767 -0.65567 -0.17267 -0.899    0.33\n",
      " -0.72933  1.     ]\n",
      "λ_updated:\n",
      " [-1.17909  0.58908 -1.10439 -0.49109 -0.729    0.01733 -1.56855  0.43822\n",
      " -0.34808  2.38087]\n",
      "constr K_theo: 19.760107023411372\n",
      "Constr K sperim: 21.32829431438127\n",
      "K_updated:\n",
      " 0.05792865112370626\n",
      "\n",
      "Number of 'spin' +1 is: 114\n",
      "\n",
      "Iteration n.: 901\n",
      "constr λ_theo:\n",
      " [-0.994    0.49967 -0.89567 -0.78733 -0.739    0.031   -1.       0.80067\n",
      " -0.589    1.     ]\n",
      "λ_updated:\n",
      " [-1.26908  0.60908 -1.10439 -0.41109 -0.749    0.05733 -1.48855  0.55821\n",
      " -0.30808  2.49086]\n",
      "constr K_theo: 21.61751170568562\n",
      "Constr K sperim: 21.32829431438127\n",
      "K_updated:\n",
      " 0.11792441196653856\n",
      "\n",
      "Number of 'spin' +1 is: 114\n",
      "\n",
      "Iteration n.: 951\n",
      "constr λ_theo:\n",
      " [-0.87767  0.37033 -0.87367 -0.57733 -0.77733  0.17433 -1.       0.25633\n",
      " -0.34267  1.     ]\n",
      "λ_updated:\n",
      " [-1.24908  0.62907 -1.06439 -0.39109 -0.66901  0.09733 -1.42856  0.51821\n",
      " -0.26809  2.55086]\n",
      "constr K_theo: 24.359366778149386\n",
      "Constr K sperim: 21.32829431438127\n",
      "K_updated:\n",
      " 0.21791973108219062\n",
      "\n",
      "Number of 'spin' +1 is: 109\n",
      "\n",
      "Iteration n.: 1001\n",
      "constr λ_theo:\n",
      " [-0.89133  0.39    -0.82567 -0.82733 -0.81233 -0.07133 -1.       0.40833\n",
      " -0.206    1.     ]\n",
      "λ_updated:\n",
      " [-1.20909  0.74907 -1.00439 -0.3511  -0.56901  0.19733 -1.50855  0.57821\n",
      " -0.18809  2.62086]\n",
      "constr K_theo: 19.7158127090301\n",
      "Constr K sperim: 21.32829431438127\n",
      "K_updated:\n",
      " 0.27791815469511794\n",
      "\n",
      "Number of 'spin' +1 is: 109\n",
      "\n",
      "Iteration n.: 1051\n",
      "constr λ_theo:\n",
      " [-0.91967  0.46067 -0.802   -0.68933 -0.633    0.014   -0.96333  0.32467\n",
      " -0.50367  1.     ]\n",
      "λ_updated:\n",
      " [-1.16909  0.76907 -0.9244  -0.2711  -0.54901  0.21733 -1.40855  0.73821\n",
      " -0.12809  2.67085]\n",
      "constr K_theo: 19.59319955406912\n",
      "Constr K sperim: 21.32829431438127\n",
      "K_updated:\n",
      " 0.3779167008032973\n",
      "\n",
      "Number of 'spin' +1 is: 100\n",
      "\n",
      "Iteration n.: 1101\n",
      "constr λ_theo:\n",
      " [-0.724    0.53633 -0.35567 -0.63667 -0.64367 -0.147   -1.       0.04133\n",
      " -0.28167  1.     ]\n",
      "λ_updated:\n",
      " [-1.16909  0.76907 -0.9044  -0.2511  -0.48901  0.25733 -1.38856  0.71821\n",
      " -0.12809  2.70085]\n",
      "constr K_theo: 18.937279821627648\n",
      "Constr K sperim: 21.32829431438127\n",
      "K_updated:\n",
      " 0.437916095802392\n",
      "\n",
      "Number of 'spin' +1 is: 112\n",
      "\n",
      "Iteration n.: 1151\n",
      "constr λ_theo:\n",
      " [-1.       0.733   -0.96033 -0.2     -0.79733  0.398   -1.       0.848\n",
      " -0.67667  1.     ]\n",
      "λ_updated:\n",
      " [-1.10909  0.78907 -0.8444  -0.1911  -0.46901  0.31732 -1.36856  0.67821\n",
      " -0.02809  2.75085]\n",
      "constr K_theo: 20.161971014492753\n",
      "Constr K sperim: 21.32829431438127\n",
      "K_updated:\n",
      " 0.5179155748564651\n",
      "\n",
      "Number of 'spin' +1 is: 112\n"
     ]
    },
    {
     "name": "stdout",
     "output_type": "stream",
     "text": [
      "\n",
      "Iteration n.: 1201\n",
      "constr λ_theo:\n",
      " [-1.       0.792   -0.73933 -0.22833 -0.312    0.15833 -1.       0.37833\n",
      " -0.011    1.     ]\n",
      "λ_updated:\n",
      " [-1.06909  0.86907 -0.8244  -0.1711  -0.389    0.31732 -1.32856  0.65821\n",
      " -0.04809  2.82085]\n",
      "constr K_theo: 13.68923076923077\n",
      "Constr K sperim: 21.32829431438127\n",
      "K_updated:\n",
      " 0.5779153873675738\n",
      "\n",
      "Number of 'spin' +1 is: 113\n",
      "\n",
      "Iteration n.: 1251\n",
      "constr λ_theo:\n",
      " [-0.33867  0.495   -0.594   -0.10967 -0.13267 -0.01167 -1.       0.598\n",
      " -0.50733  1.     ]\n",
      "λ_updated:\n",
      " [-0.96909  0.82907 -0.8844  -0.0811  -0.409    0.29733 -1.36856  0.77821\n",
      "  0.03191  2.88085]\n",
      "constr K_theo: 24.32485618729097\n",
      "Constr K sperim: 21.32829431438127\n",
      "K_updated:\n",
      " 0.6379153172833885\n",
      "\n",
      "Number of 'spin' +1 is: 105\n",
      "\n",
      "Iteration n.: 1301\n",
      "constr λ_theo:\n",
      " [-1.       0.37067 -1.      -0.59367 -0.42667  0.07533 -0.94133  0.33733\n",
      "  0.12133  1.     ]\n",
      "λ_updated:\n",
      " [-1.08909  0.82907 -0.7444  -0.1011  -0.289    0.35733 -1.34856  0.79821\n",
      "  0.01191  2.95085]\n",
      "constr K_theo: 24.722528428093646\n",
      "Constr K sperim: 21.32829431438127\n",
      "K_updated:\n",
      " 0.6979152284171177\n",
      "\n",
      "Number of 'spin' +1 is: 106\n",
      "\n",
      "Iteration n.: 1351\n",
      "constr λ_theo:\n",
      " [-1.       0.65    -0.713   -0.446   -0.55333  0.20233 -1.       0.18533\n",
      " -0.46433  1.     ]\n",
      "λ_updated:\n",
      " [-0.96909  0.93907 -0.7444  -0.1411  -0.289    0.37733 -1.28856  0.83821\n",
      "  0.05191  3.03085]\n",
      "constr K_theo: 24.589672240802674\n",
      "Constr K sperim: 21.32829431438127\n",
      "K_updated:\n",
      " 0.7379151969976522\n",
      "\n",
      "Number of 'spin' +1 is: 119\n",
      "\n",
      "Iteration n.: 1401\n",
      "constr λ_theo:\n",
      " [-0.91433  0.14333 -1.      -0.35333 -0.32533 -0.17    -0.95067  0.81333\n",
      " -0.24933  1.     ]\n",
      "λ_updated:\n",
      " [-0.92909  0.99907 -0.7044  -0.1211  -0.329    0.39732 -1.22856  0.83821\n",
      "  0.07191  3.05085]\n",
      "constr K_theo: 16.754853957636566\n",
      "Constr K sperim: 21.32829431438127\n",
      "K_updated:\n",
      " 0.7979151768222782\n",
      "\n",
      "Number of 'spin' +1 is: 128\n",
      "\n",
      "Iteration n.: 1451\n",
      "constr λ_theo:\n",
      " [-0.42867  0.434   -1.      -0.738   -0.278   -0.04633 -1.       0.557\n",
      " -0.27433  1.     ]\n",
      "λ_updated:\n",
      " [-0.94909  0.97907 -0.7444  -0.0611  -0.309    0.45732 -1.16856  0.73821\n",
      "  0.03191  3.11085]\n",
      "constr K_theo: 26.35791304347826\n",
      "Constr K sperim: 21.32829431438127\n",
      "K_updated:\n",
      " 0.7979151607711766\n",
      "\n",
      "Number of 'spin' +1 is: 121\n",
      "\n",
      "Iteration n.: 1501\n",
      "constr λ_theo:\n",
      " [-0.724    0.728   -0.60967 -0.51933 -1.       0.316   -0.808    0.80667\n",
      " -0.17533  0.99467]\n",
      "λ_updated:\n",
      " [-0.88909  1.03907 -0.6844  -0.0811  -0.329    0.43732 -1.16857  0.87821\n",
      "  0.07191  3.15085]\n",
      "constr K_theo: 11.528432552954293\n",
      "Constr K sperim: 21.32829431438127\n",
      "K_updated:\n",
      " 0.8579151406550058\n",
      "\n",
      "Number of 'spin' +1 is: 116\n",
      "\n",
      "Iteration n.: 1551\n",
      "constr λ_theo:\n",
      " [-1.       0.62633 -0.975   -0.86    -0.92333  0.22033 -1.       0.35567\n",
      " -0.226    1.     ]\n",
      "λ_updated:\n",
      " [-0.82909  0.95906 -0.7444  -0.1011  -0.329    0.45732 -1.16857  0.89821\n",
      "  0.11191  3.21085]\n",
      "constr K_theo: 18.05076923076923\n",
      "Constr K sperim: 21.32829431438127\n",
      "K_updated:\n",
      " 0.8779151498519083\n",
      "\n",
      "Number of 'spin' +1 is: 118\n",
      "\n",
      "Iteration n.: 1601\n",
      "constr λ_theo:\n",
      " [-1.       0.54067 -0.943    0.07133 -0.17433  0.259   -0.834    0.34533\n",
      " -0.11067  1.     ]\n",
      "λ_updated:\n",
      " [-0.82909  0.99906 -0.7444  -0.0411  -0.289    0.45732 -1.20857  0.89821\n",
      "  0.11191  3.23085]\n",
      "constr K_theo: 5.524459308807135\n",
      "Constr K sperim: 21.32829431438127\n",
      "K_updated:\n",
      " 0.877915151861009\n",
      "\n",
      "Number of 'spin' +1 is: 120\n",
      "\n",
      "Iteration n.: 1651\n",
      "constr λ_theo:\n",
      " [-0.818    0.75633 -0.72833 -0.118   -0.407    0.00567 -0.86267  0.54767\n",
      "  0.03133  1.     ]\n",
      "λ_updated:\n",
      " [-0.76909  1.05906 -0.8044  -0.0811  -0.309    0.41732 -1.16857  0.85822\n",
      "  0.11191  3.29085]\n",
      "constr K_theo: 5.048276477146042\n",
      "Constr K sperim: 21.32829431438127\n",
      "K_updated:\n",
      " 0.8779151519883267\n",
      "\n",
      "Number of 'spin' +1 is: 176\n",
      "\n",
      "Iteration n.: 1701\n",
      "constr λ_theo:\n",
      " [-0.82433  0.70667 -0.80133  0.29633 -0.31433  0.30667 -0.99     0.557\n",
      " -0.31833  1.     ]\n",
      "λ_updated:\n",
      " [-7.89090e-01  1.01907e+00 -8.04397e-01 -1.10485e-03 -3.09004e-01\n",
      "  3.97321e-01 -1.24857e+00  9.18215e-01  5.19092e-02  3.34085e+00]\n",
      "constr K_theo: 11.458408026755853\n",
      "Constr K sperim: 21.32829431438127\n",
      "K_updated:\n",
      " 0.857915146863933\n",
      "\n",
      "Number of 'spin' +1 is: 122\n",
      "\n",
      "Iteration n.: 1751\n",
      "constr λ_theo:\n",
      " [-0.85333  0.28067 -0.79033 -0.17733 -0.44867  0.15367 -0.98167  0.43667\n",
      "  0.22667  1.     ]\n",
      "λ_updated:\n",
      " [-0.86909  1.01907 -0.8444  -0.06111 -0.289    0.41732 -1.14857  0.81822\n",
      "  0.01191  3.38085]\n",
      "constr K_theo: 8.551777034559644\n",
      "Constr K sperim: 21.32829431438127\n",
      "K_updated:\n",
      " 0.8579151517118452\n",
      "\n",
      "Number of 'spin' +1 is: 140\n",
      "\n",
      "Iteration n.: 1801\n",
      "constr λ_theo:\n",
      " [-0.871    0.79133 -0.75567 -0.19567 -0.58633  0.014   -1.       0.481\n",
      " -0.34     1.     ]\n",
      "λ_updated:\n",
      " [-9.29087e-01  1.01907e+00 -8.04397e-01 -1.10527e-03 -2.89004e-01\n",
      "  4.17321e-01 -1.14857e+00  8.78215e-01  1.11909e-01  3.41085e+00]\n",
      "constr K_theo: 11.930207357859532\n",
      "Constr K sperim: 21.32829431438127\n",
      "K_updated:\n",
      " 0.8779151505738254\n",
      "\n",
      "Number of 'spin' +1 is: 110\n",
      "\n",
      "Iteration n.: 1851\n",
      "constr λ_theo:\n",
      " [-0.81133  0.34633 -0.867   -0.40633 -0.89933  0.08333 -1.       0.095\n",
      " -0.085    1.     ]\n",
      "λ_updated:\n",
      " [-0.98909  0.99906 -0.7444  -0.06111 -0.289    0.45732 -1.14858  0.87822\n",
      "  0.11191  3.46085]\n",
      "constr K_theo: 27.002095875139354\n",
      "Constr K sperim: 21.32829431438127\n",
      "K_updated:\n",
      " 0.8779151517537193\n",
      "\n",
      "Number of 'spin' +1 is: 110\n",
      "\n",
      "Iteration n.: 1901\n",
      "constr λ_theo:\n",
      " [-0.88767  0.22    -0.85967 -0.40367 -0.48     0.30433 -0.816    0.76467\n",
      " -0.162    1.     ]\n",
      "λ_updated:\n",
      " [-0.98909  0.97907 -0.7644  -0.0311  -0.349    0.43732 -1.16858  0.87822\n",
      "  0.09191  3.48085]\n",
      "constr K_theo: 14.74910590858417\n",
      "Constr K sperim: 21.32829431438127\n",
      "K_updated:\n",
      " 0.877915156432134\n",
      "\n",
      "Number of 'spin' +1 is: 117\n",
      "\n",
      "Iteration n.: 1951\n",
      "constr λ_theo:\n",
      " [-0.74133  0.57967 -1.      -0.973   -0.68    -0.45867 -0.98533  0.726\n",
      " -0.38633  0.98167]\n",
      "λ_updated:\n",
      " [-0.98909  0.97907 -0.7444  -0.0911  -0.209    0.47732 -0.98858  0.87822\n",
      "  0.13191  3.51085]\n",
      "constr K_theo: 45.268173913043476\n",
      "Constr K sperim: 21.32829431438127\n",
      "K_updated:\n",
      " 0.8979151591280481\n",
      "\n",
      "Number of 'spin' +1 is: 92\n"
     ]
    }
   ],
   "source": [
    "# Chose random λ\n",
    "# Can not initialize with previous vector of λ because some of them are inf\n",
    "#λ_0 = lambda1.values\n",
    "#λ_0[np.isinf(λ_0)] = 1000\n",
    "λ_0 = λ_0.T[0]\n",
    "# Choosing random λ\n",
    "#λ_0 = np.random.normal(0, 1, size=299)\n",
    "#λ_0 = np.zeros(299)\n",
    "\n",
    "# Initializing K at 0.5 (arbitrary choice)\n",
    "#K = 0.0\n",
    "K = 0.5\n",
    "\n",
    "# recalling constraints\n",
    "constr_λ = 2*average_presence.values.T[0]-1\n",
    "constr_K = sp_sm/299\n",
    "\n",
    "# Creating list of configurations\n",
    "dim_sample = 10\n",
    "config_list = np.zeros(shape=(dim_sample, 299))\n",
    "n_iter=2000\n",
    "\n",
    "saveK=np.zeros(100)\n",
    "saveλ_0=np.zeros(shape=(100, 299))\n",
    "\n",
    "### Here there should be a iteration\n",
    "for i in range(1, n_iter):\n",
    "    \n",
    "    # Sample with metropolis\n",
    "    \n",
    "    #for num in range(dim_sample):\n",
    "    config_list = metropolis_sample(λ_0, K, dim=299, number=30000)[0]\n",
    "\n",
    "    #plt.plot(results_list[1])\n",
    "    #plt.show()\n",
    "\n",
    "    # Updating λs\n",
    "    # Evaluating new theoretical constraints\n",
    "    constr_theo_λ = np.zeros(299)\n",
    "    constr_theo_K = 0\n",
    "    # updating elementwise\n",
    "    for conf in config_list:\n",
    "        constr_theo_λ += conf\n",
    "        constr_theo_K += ((np.sum(conf))**2)\n",
    "    constr_theo_λ /= len(config_list)\n",
    "    constr_theo_K = constr_theo_K/(len(config_list)*299)\n",
    "\n",
    "    η = 0.01\n",
    "\n",
    "    #λ_0 = λ_0 + η*(constr_λ - constr_theo_λ)\n",
    "    #K = K + η*(constr_K - constr_theo_K)\n",
    "    g = -(constr_λ - constr_theo_λ)\n",
    "    g1 = -(constr_K - constr_theo_K)\n",
    "    m = 0\n",
    "    m1 = 0\n",
    "    s = 0\n",
    "    s1 = 0\n",
    "    \n",
    "    λ_0, K, g, g1, m, m1, s, s1 = ADAMS(λ_0, K, g, m, s, g1, s1, m1, t=i, η=η)\n",
    "\n",
    "    if n_iter-i<100:\n",
    "        saveλ_0[n_iter-i]=λ_0\n",
    "        saveK[n_iter-i]=K\n",
    "      \n",
    "    if (i%50==0):\n",
    "        print(\"\\nIteration n.: \" + str(i+1))\n",
    "        print(\"constr λ_theo:\\n\", constr_theo_λ[:10])\n",
    "        print(\"λ_updated:\\n\", λ_0[:10])\n",
    "        print(\"constr K_theo:\", constr_theo_K)\n",
    "        print(\"Constr K sperim:\", constr_K)\n",
    "        print(\"K_updated:\\n\", K, end=\"\\n\\n\")\n",
    "        #print(conf)\n",
    "        print(\"Number of 'spin' +1 is:\", len(conf[conf==1]))\n",
    "        #plt.plot(results_list)\n",
    "        plt.show()"
   ]
  },
  {
   "cell_type": "code",
   "execution_count": 21,
   "metadata": {
    "colab": {
     "base_uri": "https://localhost:8080/",
     "height": 51
    },
    "colab_type": "code",
    "executionInfo": {
     "elapsed": 1597,
     "status": "ok",
     "timestamp": 1554390243686,
     "user": {
      "displayName": "il nano",
      "photoUrl": "https://lh6.googleusercontent.com/-heBLg35rn00/AAAAAAAAAAI/AAAAAAAAERE/DQP9H_ACCUU/s64/photo.jpg",
      "userId": "03453765899662729842"
     },
     "user_tz": -120
    },
    "id": "Kes2PZGiIvkn",
    "outputId": "19594424-940b-462a-c0fc-3c35706ac255"
   },
   "outputs": [
    {
     "name": "stdout",
     "output_type": "stream",
     "text": [
      "The result for 'K/S' is: 0.8863999914595939\n",
      "\n"
     ]
    }
   ],
   "source": [
    "#media dei K sulle ultime 100 iterazioni\n",
    "mean_K=saveK[1:].mean()\n",
    "print(\"The result for 'K/S' is:\", mean_K, end=\"\\n\\n\")"
   ]
  },
  {
   "cell_type": "code",
   "execution_count": 22,
   "metadata": {
    "colab": {
     "base_uri": "https://localhost:8080/",
     "height": 1054
    },
    "colab_type": "code",
    "executionInfo": {
     "elapsed": 1190,
     "status": "ok",
     "timestamp": 1554390246625,
     "user": {
      "displayName": "il nano",
      "photoUrl": "https://lh6.googleusercontent.com/-heBLg35rn00/AAAAAAAAAAI/AAAAAAAAERE/DQP9H_ACCUU/s64/photo.jpg",
      "userId": "03453765899662729842"
     },
     "user_tz": -120
    },
    "id": "v5GLNRIpI8D0",
    "outputId": "7c964aed-ceec-4da2-84b2-27733ebafdc4",
    "scrolled": true
   },
   "outputs": [
    {
     "name": "stdout",
     "output_type": "stream",
     "text": [
      "The result for λ is:\n",
      " [-9.69894e-01  1.00432e+00 -7.15109e-01 -5.79721e-02 -2.63348e-01\n",
      "  4.96917e-01 -1.07504e+00  8.74377e-01  1.22213e-01  3.50893e+00\n",
      " -9.37850e-01 -4.59043e-01 -1.10438e+00  9.35200e-01  8.60540e-01\n",
      "  1.13180e-01  8.26661e-01 -3.34519e-01 -1.00647e+00 -1.24278e+00\n",
      " -1.34889e+00 -6.31220e-02 -1.10290e+00  7.64952e-01  4.21887e-01\n",
      " -2.36613e-01 -1.07888e+00 -1.25303e+00 -7.10600e-01  1.25677e+00\n",
      " -1.34846e+00  1.68944e+00 -1.04665e+00  1.21488e+00  2.08870e+00\n",
      "  9.85342e-01  1.69722e-01 -6.64044e-01 -8.25300e-01  2.81081e-01\n",
      "  1.89115e+00 -5.96432e-01  1.06014e+00 -9.48078e-01  1.63110e-01\n",
      " -8.62542e-01 -1.48803e-01  3.28000e-01 -1.21317e+00 -2.40506e-01\n",
      " -1.06128e+00 -3.35070e-02 -1.22671e+00  5.77352e-01  1.48078e+00\n",
      "  3.41198e-01 -7.69425e-01 -9.03429e-01 -1.21917e+00  2.84898e-01\n",
      "  1.00379e+00 -1.26865e+00 -1.12050e+00 -7.33528e-02  1.33687e-01\n",
      "  1.26696e+00  1.70521e+00  1.58529e+00 -1.18128e+00  3.98290e-01\n",
      " -9.35996e-01 -3.61941e-01 -5.60741e-02  1.58049e+00 -1.05578e+00\n",
      "  4.58534e-02  3.52871e+00  6.33124e-03 -1.74478e-01  1.05282e+00\n",
      " -9.26099e-01 -8.34175e-01  3.69703e-02  7.94126e-01  2.65009e-01\n",
      "  1.27601e+00  1.96055e+00  1.31035e+00  1.82860e+00  3.47786e+00\n",
      " -1.08077e+00 -9.86362e-01 -1.15940e+00 -8.19168e-01 -1.01474e+00\n",
      " -1.03338e+00 -1.20125e+00 -5.94649e-01 -1.23350e+00 -9.87181e-01\n",
      "  3.40304e+00  8.23700e-01 -8.65925e-02  5.06597e-01 -9.25491e-02\n",
      "  2.02155e+00  1.68795e+00  1.32369e+00 -1.47712e-01  8.22117e-01\n",
      "  1.03639e+00  5.99074e-04 -1.27668e+00  6.03022e-02  1.06091e+00\n",
      "  8.06577e-02  1.45803e+00  1.34556e+00 -6.10273e-01  3.45537e+00\n",
      "  5.73864e-02  3.47054e+00 -8.61443e-02 -2.82344e-01 -1.52953e-01\n",
      "  1.05185e+00 -1.19680e+00  9.15223e-01 -1.24156e+00 -2.05014e-01\n",
      " -5.86391e-01  1.47201e+00 -1.07992e+00  8.83604e-01  6.25140e-01\n",
      " -6.61556e-01  7.22671e-02  1.82156e+00  6.75862e-01  2.13107e+00\n",
      "  1.67492e-01 -5.74624e-01  5.97222e-01 -1.06081e+00 -1.29959e+00\n",
      "  6.36573e-02  3.45081e-01 -2.19121e-01  1.18101e+00 -1.23936e+00\n",
      "  5.02202e-01 -1.24120e+00 -2.47659e-01  1.06719e+00 -4.78297e-01\n",
      "  1.98794e+00 -1.15049e+00 -1.26606e+00 -9.11109e-02  6.09859e-01\n",
      "  1.02299e+00 -1.18043e+00 -8.53307e-01 -3.96728e-01 -9.46265e-01\n",
      "  2.38172e-01 -1.18971e+00  3.43396e+00 -4.22079e-01 -1.07711e+00\n",
      "  3.72857e-02  3.50430e-03 -1.82098e-01 -1.30234e+00 -8.75231e-02\n",
      " -9.88166e-01  8.04717e-01  2.76748e-01  2.64325e-01  1.83987e-01\n",
      "  2.05073e+00 -6.74674e-02 -1.31983e+00  2.23829e-02  2.15007e-01\n",
      "  1.72578e+00  9.97607e-01  8.33928e-01 -7.68941e-02 -1.67573e-01\n",
      "  1.70796e+00 -8.24911e-01 -9.08980e-01 -1.13542e+00 -3.70954e-01\n",
      " -8.10995e-01 -8.41718e-01  2.50401e-01 -1.27200e+00 -1.19164e+00\n",
      "  2.65410e-01  1.61497e-01 -1.23893e+00 -1.16500e+00 -1.19847e-01\n",
      "  1.02114e+00 -3.11558e-01 -1.22689e+00  2.12396e+00 -1.26268e-01\n",
      "  7.45129e-01  1.07586e+00  1.91922e+00 -1.12634e+00  2.00030e+00\n",
      " -4.98683e-01 -2.47990e-01 -8.93588e-01 -9.78863e-01 -8.40996e-01\n",
      " -9.11444e-01 -1.21686e+00 -6.21630e-01  2.04267e+00 -7.63138e-01\n",
      "  8.16770e-01 -1.16741e+00 -1.31342e+00 -1.26046e+00 -1.19196e+00\n",
      "  2.03079e+00  1.92694e+00 -5.15685e-02  1.88470e+00 -1.20546e+00\n",
      " -1.23367e+00  3.65161e-01 -2.65997e-01 -1.23297e+00 -3.36132e-01\n",
      " -1.23011e+00 -6.23344e-01  1.22516e-01  1.86586e+00 -6.56200e-01\n",
      "  7.54220e-01  1.11196e+00  3.67153e-01 -9.87931e-01 -7.11572e-02\n",
      " -1.04552e+00  2.12484e+00 -1.21594e+00 -1.36894e-01  3.88296e-01\n",
      " -1.29883e+00 -2.75668e-01  1.57068e+00  1.72768e+00  1.92339e+00\n",
      "  1.46711e-01 -1.99997e-01  5.77513e-01  2.02762e+00  1.88798e+00\n",
      "  6.78493e-01  1.36612e+00 -4.45047e-01 -5.16654e-01  3.48544e+00\n",
      " -1.12814e+00 -6.77642e-01 -6.40392e-01 -9.90105e-01 -2.93160e-01\n",
      " -5.39873e-01 -1.17630e+00  1.10747e+00  3.50617e+00 -1.24572e+00\n",
      "  4.04900e-01  6.81354e-01 -1.06084e-01  8.11353e-01 -9.07899e-01\n",
      " -1.20097e+00  1.58688e+00 -4.07817e-01  4.29309e-01 -5.53988e-01\n",
      " -1.09696e+00 -7.45915e-01  8.25016e-01 -2.40660e-01  3.21182e-01\n",
      "  2.90839e-01 -5.30379e-02 -1.23953e+00 -5.02872e-01]\n"
     ]
    }
   ],
   "source": [
    "#media dei lambda sulle ultime 100 iterazioni\n",
    "mean_λ_0=saveλ_0[1:].mean(axis=0)\n",
    "print(\"The result for λ is:\\n\", mean_λ_0)\n"
   ]
  },
  {
   "cell_type": "code",
   "execution_count": 23,
   "metadata": {
    "colab": {
     "base_uri": "https://localhost:8080/",
     "height": 34
    },
    "colab_type": "code",
    "executionInfo": {
     "elapsed": 2808,
     "status": "ok",
     "timestamp": 1554390253926,
     "user": {
      "displayName": "il nano",
      "photoUrl": "https://lh6.googleusercontent.com/-heBLg35rn00/AAAAAAAAAAI/AAAAAAAAERE/DQP9H_ACCUU/s64/photo.jpg",
      "userId": "03453765899662729842"
     },
     "user_tz": -120
    },
    "id": "Rq-kJWQz1_Pg",
    "outputId": "73c0ff3b-0984-4199-f5c8-9cdf65106774"
   },
   "outputs": [
    {
     "data": {
      "text/plain": [
       "-0.2690267558528428"
      ]
     },
     "execution_count": 23,
     "metadata": {},
     "output_type": "execute_result"
    }
   ],
   "source": [
    "# average magnetization of the ensemble of configurations using last parameters found\n",
    "avg_config=np.array(metropolis_sample(mean_λ_0, mean_K)[0]).mean()\n",
    "avg_config\n"
   ]
  },
  {
   "cell_type": "code",
   "execution_count": 24,
   "metadata": {
    "colab": {
     "base_uri": "https://localhost:8080/",
     "height": 351
    },
    "colab_type": "code",
    "executionInfo": {
     "elapsed": 1253,
     "status": "ok",
     "timestamp": 1554390790038,
     "user": {
      "displayName": "il nano",
      "photoUrl": "https://lh6.googleusercontent.com/-heBLg35rn00/AAAAAAAAAAI/AAAAAAAAERE/DQP9H_ACCUU/s64/photo.jpg",
      "userId": "03453765899662729842"
     },
     "user_tz": -120
    },
    "id": "CFeAPc6Q1_Pw",
    "outputId": "1f94e0d5-8856-4bd6-cd98-356afb7f3f29"
   },
   "outputs": [
    {
     "data": {
      "image/png": "[encoded data removed]",
      "text/plain": [
       "<Figure size 360x360 with 1 Axes>"
      ]
     },
     "metadata": {
      "needs_background": "light"
     },
     "output_type": "display_data"
    }
   ],
   "source": [
    "fig1, (ax1) = plt.subplots(figsize=(5, 5))\n",
    "\n",
    "ax1.boxplot(magn_sper, vert = False)\n",
    "\n",
    "ax1.plot( avg_config, 1, marker='*', markersize=20 )\n",
    "\n",
    "ax1.set_title('Average magnetization', fontsize=15)\n",
    "\n",
    "ax1.set_xlabel('Magnetization')\n",
    "plt.show()"
   ]
  },
  {
   "cell_type": "code",
   "execution_count": 25,
   "metadata": {
    "colab": {
     "base_uri": "https://localhost:8080/",
     "height": 337
    },
    "colab_type": "code",
    "executionInfo": {
     "elapsed": 1548,
     "status": "ok",
     "timestamp": 1554390715072,
     "user": {
      "displayName": "il nano",
      "photoUrl": "https://lh6.googleusercontent.com/-heBLg35rn00/AAAAAAAAAAI/AAAAAAAAERE/DQP9H_ACCUU/s64/photo.jpg",
      "userId": "03453765899662729842"
     },
     "user_tz": -120
    },
    "id": "Z7zdpOcY1_Qa",
    "outputId": "7162017b-92b6-4910-dcfa-8f39cd68c6de"
   },
   "outputs": [
    {
     "data": {
      "image/png": "[encoded data removed]",
      "text/plain": [
       "<Figure size 360x360 with 1 Axes>"
      ]
     },
     "metadata": {
      "needs_background": "light"
     },
     "output_type": "display_data"
    }
   ],
   "source": [
    "fig1, (ax1) = plt.subplots(figsize=(5, 5))\n",
    "\n",
    "my_config = np.array(metropolis_sample(mean_λ_0, mean_K)[0])\n",
    "\n",
    "ax1.plot(np.sort(np.mean(my_config ,axis=0) ) , linewidth=2)\n",
    "\n",
    "ax1.plot(magn_sper[np.argsort(np.mean(my_config, axis=0))], alpha=0.7)\n",
    "\n",
    "ax1.set_title('λ\\'s distribution', fontsize=15)\n",
    "            \n",
    "plt.show()"
   ]
  },
  {
   "cell_type": "markdown",
   "metadata": {
    "colab_type": "text",
    "id": "b6ixguqY1_RE"
   },
   "source": [
    "## Task 5"
   ]
  },
  {
   "cell_type": "code",
   "execution_count": 26,
   "metadata": {
    "colab": {
     "base_uri": "https://localhost:8080/",
     "height": 85
    },
    "colab_type": "code",
    "executionInfo": {
     "elapsed": 1417,
     "status": "ok",
     "timestamp": 1554390264418,
     "user": {
      "displayName": "il nano",
      "photoUrl": "https://lh6.googleusercontent.com/-heBLg35rn00/AAAAAAAAAAI/AAAAAAAAERE/DQP9H_ACCUU/s64/photo.jpg",
      "userId": "03453765899662729842"
     },
     "user_tz": -120
    },
    "id": "wRvG5W85te-7",
    "outputId": "f0e2fd76-9813-4614-ec35-67ed55bf2deb"
   },
   "outputs": [
    {
     "name": "stdout",
     "output_type": "stream",
     "text": [
      "The average of λ is:\t 0.0902015561771032\n",
      "The σ of λ is:\t\t 1.1501022993579952\n",
      "The compatibility of the avg of λ with 0 is:\n",
      " 0.07842915906476762\n"
     ]
    }
   ],
   "source": [
    "µ_λ = np.mean(mean_λ_0)\n",
    "σ_λ = np.std(mean_λ_0)\n",
    "\n",
    "print(\"The average of λ is:\\t\", µ_λ)\n",
    "print(\"The σ of λ is:\\t\\t\", σ_λ)\n",
    "\n",
    "print(\"The compatibility of the avg of λ with 0 is:\\n\", np.abs(0-µ_λ)/σ_λ)"
   ]
  },
  {
   "cell_type": "code",
   "execution_count": 34,
   "metadata": {
    "colab": {
     "base_uri": "https://localhost:8080/",
     "height": 433
    },
    "colab_type": "code",
    "executionInfo": {
     "elapsed": 3551,
     "status": "ok",
     "timestamp": 1554393123316,
     "user": {
      "displayName": "il nano",
      "photoUrl": "https://lh6.googleusercontent.com/-heBLg35rn00/AAAAAAAAAAI/AAAAAAAAERE/DQP9H_ACCUU/s64/photo.jpg",
      "userId": "03453765899662729842"
     },
     "user_tz": -120
    },
    "id": "zYlvDGj9te_J",
    "outputId": "2671d006-4742-40e6-d3aa-4efeec3b8bdb"
   },
   "outputs": [
    {
     "data": {
      "image/png": "[encoded data removed]",
      "text/plain": [
       "<Figure size 720x432 with 1 Axes>"
      ]
     },
     "metadata": {
      "needs_background": "light"
     },
     "output_type": "display_data"
    }
   ],
   "source": [
    "import scipy.integrate\n",
    "\n",
    "# testing parameter β\n",
    "β = 1\n",
    "#σ=1\n",
    "def phase_curve(h,σ):\n",
    "    return (np.exp(-0.5*(h)**2/((σ)**2)) / (((np.cosh(h*β))**2) *β* np.sqrt(2*np.pi*(σ)**2)))\n",
    "\n",
    "x_values = []\n",
    "x_interv = np.linspace(0.001, 5, 1000)\n",
    "\n",
    "\n",
    "for i in x_interv:\n",
    "    integral_ = scipy.integrate.quad(phase_curve, -10, 10, args=(i) )\n",
    "    x_values.append(0.5/(integral_[0]))\n",
    "\n",
    "plt.figure(figsize=(10, 6))\n",
    "plt.plot(x_interv[1:], x_values[1:], label=\"Transition phase line\")\n",
    "#plt.plot( x_values, x_interv)\n",
    "plt.xlim(0, 4)\n",
    "plt.ylim(0, 4)\n",
    "plt.title('K/S vs var(λ)', fontsize=25)\n",
    "plt.xlabel(r\"$\\sqrt{Variace(λ)}$\", fontsize=20)\n",
    "plt.ylabel(\"K/S\", fontsize=20)\n",
    "plt.fill_between(x_interv, 0, x_values, alpha=0.35, edgecolor=\"#000000\", facecolor=\"#ffff77\")\n",
    "plt.fill_between(x_interv,  x_values,4, alpha=0.35, edgecolor=\"#000000\", facecolor=\"#aaffff\")\n",
    "plt.plot(σ_λ, K, marker = '*', ms=11, markeredgecolor=\"#ff0000\", markerfacecolor=\"#ff0000\", label=\"Model result\")\n",
    "plt.text(3, 0.5, \"Paramagnetic\", ha=\"center\", color=\"#000000\", va=\"top\", fontsize=15)\n",
    "plt.text(1.25, 2.5, \"Ferromagnetic\", ha=\"center\", color=\"#000000\", va=\"top\", fontsize=15)\n",
    "plt.legend()\n",
    "plt.show()"
   ]
  },
  {
   "cell_type": "markdown",
   "metadata": {
    "colab_type": "text",
    "id": "mF5ytkRC1_SN"
   },
   "source": [
    "## Task 6"
   ]
  },
  {
   "cell_type": "code",
   "execution_count": 35,
   "metadata": {
    "colab": {},
    "colab_type": "code",
    "id": "CsxkltsH1_SV"
   },
   "outputs": [],
   "source": [
    "vectors_np=np.array(vectors)\n",
    "std=np.std(vectors_np, axis=1)\n",
    "mean=np.mean(vectors_np, axis=1)\n",
    "\n",
    "\n",
    "newvectors=vectors[mean>std]\n",
    "\n",
    "# to see the dataframe uncomment the following line\n",
    "#newvectors"
   ]
  },
  {
   "cell_type": "code",
   "execution_count": 36,
   "metadata": {
    "colab": {},
    "colab_type": "code",
    "id": "kr-LzCj-1_Sq"
   },
   "outputs": [],
   "source": [
    "new_mean=np.array(newvectors.mean(axis=1))\n",
    "M_inv=newvectors.T.cov()\n",
    "M=np.linalg.inv(M_inv)\n",
    "#M=np.linalg.inv(M) #se voglio usare M_inv al posto di M\n",
    "\n",
    "for i in range(len(M)):\n",
    "    M[i][i]=0\n",
    "\n",
    "# to show M uncomment the following line\n",
    "#pd.DataFrame(M)"
   ]
  },
  {
   "cell_type": "code",
   "execution_count": 38,
   "metadata": {
    "colab": {
     "base_uri": "https://localhost:8080/",
     "height": 1661
    },
    "colab_type": "code",
    "executionInfo": {
     "elapsed": 805,
     "status": "ok",
     "timestamp": 1554390353519,
     "user": {
      "displayName": "il nano",
      "photoUrl": "https://lh6.googleusercontent.com/-heBLg35rn00/AAAAAAAAAAI/AAAAAAAAERE/DQP9H_ACCUU/s64/photo.jpg",
      "userId": "03453765899662729842"
     },
     "user_tz": -120
    },
    "id": "RneVN4Zs1_TE",
    "outputId": "8cf20b5b-bbe7-4e7e-b548-3f45590fadd9",
    "scrolled": false
   },
   "outputs": [
    {
     "name": "stdout",
     "output_type": "stream",
     "text": [
      "0.3231133528604275\n"
     ]
    },
    {
     "data": {
      "text/html": [
       "<div>\n",
       "<style scoped>\n",
       "    .dataframe tbody tr th:only-of-type {\n",
       "        vertical-align: middle;\n",
       "    }\n",
       "\n",
       "    .dataframe tbody tr th {\n",
       "        vertical-align: top;\n",
       "    }\n",
       "\n",
       "    .dataframe thead th {\n",
       "        text-align: right;\n",
       "    }\n",
       "</style>\n",
       "<table border=\"1\" class=\"dataframe\">\n",
       "  <thead>\n",
       "    <tr style=\"text-align: right;\">\n",
       "      <th></th>\n",
       "      <th>$\\mu$</th>\n",
       "    </tr>\n",
       "  </thead>\n",
       "  <tbody>\n",
       "    <tr>\n",
       "      <th>0</th>\n",
       "      <td>0.152135</td>\n",
       "    </tr>\n",
       "    <tr>\n",
       "      <th>1</th>\n",
       "      <td>0.139548</td>\n",
       "    </tr>\n",
       "    <tr>\n",
       "      <th>2</th>\n",
       "      <td>0.567857</td>\n",
       "    </tr>\n",
       "    <tr>\n",
       "      <th>3</th>\n",
       "      <td>0.171238</td>\n",
       "    </tr>\n",
       "    <tr>\n",
       "      <th>4</th>\n",
       "      <td>0.581489</td>\n",
       "    </tr>\n",
       "    <tr>\n",
       "      <th>5</th>\n",
       "      <td>0.897921</td>\n",
       "    </tr>\n",
       "    <tr>\n",
       "      <th>6</th>\n",
       "      <td>0.447018</td>\n",
       "    </tr>\n",
       "    <tr>\n",
       "      <th>7</th>\n",
       "      <td>0.210770</td>\n",
       "    </tr>\n",
       "    <tr>\n",
       "      <th>8</th>\n",
       "      <td>0.096871</td>\n",
       "    </tr>\n",
       "    <tr>\n",
       "      <th>9</th>\n",
       "      <td>0.357246</td>\n",
       "    </tr>\n",
       "    <tr>\n",
       "      <th>10</th>\n",
       "      <td>0.917665</td>\n",
       "    </tr>\n",
       "    <tr>\n",
       "      <th>11</th>\n",
       "      <td>0.675452</td>\n",
       "    </tr>\n",
       "    <tr>\n",
       "      <th>12</th>\n",
       "      <td>0.061191</td>\n",
       "    </tr>\n",
       "    <tr>\n",
       "      <th>13</th>\n",
       "      <td>0.727903</td>\n",
       "    </tr>\n",
       "    <tr>\n",
       "      <th>14</th>\n",
       "      <td>0.026261</td>\n",
       "    </tr>\n",
       "    <tr>\n",
       "      <th>15</th>\n",
       "      <td>-0.060536</td>\n",
       "    </tr>\n",
       "    <tr>\n",
       "      <th>16</th>\n",
       "      <td>-0.069098</td>\n",
       "    </tr>\n",
       "    <tr>\n",
       "      <th>17</th>\n",
       "      <td>0.113762</td>\n",
       "    </tr>\n",
       "    <tr>\n",
       "      <th>18</th>\n",
       "      <td>0.182733</td>\n",
       "    </tr>\n",
       "    <tr>\n",
       "      <th>19</th>\n",
       "      <td>0.140337</td>\n",
       "    </tr>\n",
       "    <tr>\n",
       "      <th>20</th>\n",
       "      <td>0.084884</td>\n",
       "    </tr>\n",
       "    <tr>\n",
       "      <th>21</th>\n",
       "      <td>0.151988</td>\n",
       "    </tr>\n",
       "    <tr>\n",
       "      <th>22</th>\n",
       "      <td>0.829918</td>\n",
       "    </tr>\n",
       "    <tr>\n",
       "      <th>23</th>\n",
       "      <td>-0.030594</td>\n",
       "    </tr>\n",
       "    <tr>\n",
       "      <th>24</th>\n",
       "      <td>0.040929</td>\n",
       "    </tr>\n",
       "    <tr>\n",
       "      <th>25</th>\n",
       "      <td>-0.779222</td>\n",
       "    </tr>\n",
       "    <tr>\n",
       "      <th>26</th>\n",
       "      <td>1.224133</td>\n",
       "    </tr>\n",
       "    <tr>\n",
       "      <th>27</th>\n",
       "      <td>0.805744</td>\n",
       "    </tr>\n",
       "    <tr>\n",
       "      <th>28</th>\n",
       "      <td>1.034929</td>\n",
       "    </tr>\n",
       "    <tr>\n",
       "      <th>29</th>\n",
       "      <td>0.827343</td>\n",
       "    </tr>\n",
       "    <tr>\n",
       "      <th>30</th>\n",
       "      <td>0.077616</td>\n",
       "    </tr>\n",
       "    <tr>\n",
       "      <th>31</th>\n",
       "      <td>-0.738549</td>\n",
       "    </tr>\n",
       "    <tr>\n",
       "      <th>32</th>\n",
       "      <td>0.474461</td>\n",
       "    </tr>\n",
       "    <tr>\n",
       "      <th>33</th>\n",
       "      <td>0.969326</td>\n",
       "    </tr>\n",
       "    <tr>\n",
       "      <th>34</th>\n",
       "      <td>-0.305743</td>\n",
       "    </tr>\n",
       "    <tr>\n",
       "      <th>35</th>\n",
       "      <td>0.332377</td>\n",
       "    </tr>\n",
       "    <tr>\n",
       "      <th>36</th>\n",
       "      <td>-0.134601</td>\n",
       "    </tr>\n",
       "    <tr>\n",
       "      <th>37</th>\n",
       "      <td>0.907309</td>\n",
       "    </tr>\n",
       "    <tr>\n",
       "      <th>38</th>\n",
       "      <td>0.099149</td>\n",
       "    </tr>\n",
       "    <tr>\n",
       "      <th>39</th>\n",
       "      <td>1.002163</td>\n",
       "    </tr>\n",
       "    <tr>\n",
       "      <th>40</th>\n",
       "      <td>0.718637</td>\n",
       "    </tr>\n",
       "    <tr>\n",
       "      <th>41</th>\n",
       "      <td>0.565999</td>\n",
       "    </tr>\n",
       "    <tr>\n",
       "      <th>42</th>\n",
       "      <td>0.523796</td>\n",
       "    </tr>\n",
       "    <tr>\n",
       "      <th>43</th>\n",
       "      <td>0.123240</td>\n",
       "    </tr>\n",
       "    <tr>\n",
       "      <th>44</th>\n",
       "      <td>-0.030816</td>\n",
       "    </tr>\n",
       "    <tr>\n",
       "      <th>45</th>\n",
       "      <td>0.250978</td>\n",
       "    </tr>\n",
       "    <tr>\n",
       "      <th>46</th>\n",
       "      <td>0.229812</td>\n",
       "    </tr>\n",
       "    <tr>\n",
       "      <th>47</th>\n",
       "      <td>0.626111</td>\n",
       "    </tr>\n",
       "    <tr>\n",
       "      <th>48</th>\n",
       "      <td>0.135218</td>\n",
       "    </tr>\n",
       "    <tr>\n",
       "      <th>49</th>\n",
       "      <td>-0.150982</td>\n",
       "    </tr>\n",
       "    <tr>\n",
       "      <th>50</th>\n",
       "      <td>0.134168</td>\n",
       "    </tr>\n",
       "    <tr>\n",
       "      <th>51</th>\n",
       "      <td>0.464410</td>\n",
       "    </tr>\n",
       "  </tbody>\n",
       "</table>\n",
       "</div>"
      ],
      "text/plain": [
       "       $\\mu$\n",
       "0   0.152135\n",
       "1   0.139548\n",
       "2   0.567857\n",
       "3   0.171238\n",
       "4   0.581489\n",
       "5   0.897921\n",
       "6   0.447018\n",
       "7   0.210770\n",
       "8   0.096871\n",
       "9   0.357246\n",
       "10  0.917665\n",
       "11  0.675452\n",
       "12  0.061191\n",
       "13  0.727903\n",
       "14  0.026261\n",
       "15 -0.060536\n",
       "16 -0.069098\n",
       "17  0.113762\n",
       "18  0.182733\n",
       "19  0.140337\n",
       "20  0.084884\n",
       "21  0.151988\n",
       "22  0.829918\n",
       "23 -0.030594\n",
       "24  0.040929\n",
       "25 -0.779222\n",
       "26  1.224133\n",
       "27  0.805744\n",
       "28  1.034929\n",
       "29  0.827343\n",
       "30  0.077616\n",
       "31 -0.738549\n",
       "32  0.474461\n",
       "33  0.969326\n",
       "34 -0.305743\n",
       "35  0.332377\n",
       "36 -0.134601\n",
       "37  0.907309\n",
       "38  0.099149\n",
       "39  1.002163\n",
       "40  0.718637\n",
       "41  0.565999\n",
       "42  0.523796\n",
       "43  0.123240\n",
       "44 -0.030816\n",
       "45  0.250978\n",
       "46  0.229812\n",
       "47  0.626111\n",
       "48  0.135218\n",
       "49 -0.150982\n",
       "50  0.134168\n",
       "51  0.464410"
      ]
     },
     "execution_count": 38,
     "metadata": {},
     "output_type": "execute_result"
    }
   ],
   "source": [
    "µ=-M.dot(new_mean)\n",
    "pd.DataFrame(µ).rename(index=str, columns={0:'$\\mu$'})"
   ]
  },
  {
   "cell_type": "code",
   "execution_count": 46,
   "metadata": {},
   "outputs": [],
   "source": [
    "# uncomment to place the complete matrix into a file\n",
    "#nome_file=\"Personalizza.csv\"\n",
    "#pd.DataFrame(M).to_csv(nome_file, index=False, header=False, sep=\"\\t\")"
   ]
  },
  {
   "cell_type": "markdown",
   "metadata": {
    "colab_type": "text",
    "id": "OdJt35wo1_UA"
   },
   "source": [
    "## Task 7"
   ]
  },
  {
   "cell_type": "code",
   "execution_count": 52,
   "metadata": {
    "colab": {
     "base_uri": "https://localhost:8080/",
     "height": 620
    },
    "colab_type": "code",
    "executionInfo": {
     "elapsed": 1885,
     "status": "ok",
     "timestamp": 1554391080663,
     "user": {
      "displayName": "il nano",
      "photoUrl": "https://lh6.googleusercontent.com/-heBLg35rn00/AAAAAAAAAAI/AAAAAAAAERE/DQP9H_ACCUU/s64/photo.jpg",
      "userId": "03453765899662729842"
     },
     "user_tz": -120
    },
    "id": "hjiKBfZw1_UK",
    "outputId": "5cae8beb-827f-4827-ff87-ec17160a95df"
   },
   "outputs": [
    {
     "data": {
      "image/png": "[encoded data removed]",
      "text/plain": [
       "<Figure size 720x720 with 1 Axes>"
      ]
     },
     "metadata": {
      "needs_background": "light"
     },
     "output_type": "display_data"
    }
   ],
   "source": [
    "plt.figure(figsize=(10,10))\n",
    "bins = np.linspace(-0.10, 0.20, 25)\n",
    "plt.hist(M.reshape(2704), bins=bins)\n",
    "plt.title('Distribution of elements of the M matrix', fontsize=20)\n",
    "plt.ylabel('counts/bin')\n",
    "plt.xlabel('value of the entries')\n",
    "\n",
    "plt.show()"
   ]
  },
  {
   "cell_type": "code",
   "execution_count": 57,
   "metadata": {
    "colab": {
     "base_uri": "https://localhost:8080/",
     "height": 34
    },
    "colab_type": "code",
    "executionInfo": {
     "elapsed": 2676,
     "status": "ok",
     "timestamp": 1554390359125,
     "user": {
      "displayName": "il nano",
      "photoUrl": "https://lh6.googleusercontent.com/-heBLg35rn00/AAAAAAAAAAI/AAAAAAAAERE/DQP9H_ACCUU/s64/photo.jpg",
      "userId": "03453765899662729842"
     },
     "user_tz": -120
    },
    "id": "rAEUnRTE1_Ug",
    "outputId": "4d98f0ca-4590-4050-ad17-a36d747667b9"
   },
   "outputs": [
    {
     "name": "stdout",
     "output_type": "stream",
     "text": [
      "the best threshold is: 0.003\n"
     ]
    }
   ],
   "source": [
    "M_threshold=M.copy()\n",
    "\n",
    "\n",
    "theta=[i/5000 for i in range(0,500)]  #se voglio usare M_inv al posto di M\n",
    "#theta=[i for i in range(0,500)]\n",
    "components=[]\n",
    "connect=[]\n",
    "\n",
    "for i in theta:\n",
    "    \n",
    "    M_threshold[np.abs(M_threshold)<i]=0\n",
    "    G=nx.from_numpy_matrix(M_threshold)\n",
    "    components.append(nx.number_connected_components(G))\n",
    "    connect.append(nx.is_connected(G))\n",
    "    \n",
    "for i in range(len(components)-1):\n",
    "    if ((components[i]==1)&(components[i+1]==2)):\n",
    "        threshold=theta[i]\n",
    "        print('the best threshold is:',threshold)"
   ]
  },
  {
   "cell_type": "code",
   "execution_count": 58,
   "metadata": {
    "colab": {
     "base_uri": "https://localhost:8080/",
     "height": 1237
    },
    "colab_type": "code",
    "executionInfo": {
     "elapsed": 3867,
     "status": "ok",
     "timestamp": 1554390361094,
     "user": {
      "displayName": "il nano",
      "photoUrl": "https://lh6.googleusercontent.com/-heBLg35rn00/AAAAAAAAAAI/AAAAAAAAERE/DQP9H_ACCUU/s64/photo.jpg",
      "userId": "03453765899662729842"
     },
     "user_tz": -120
    },
    "id": "G7adDe4c1_Uu",
    "outputId": "09d2da17-67e1-4e67-87cf-74542c952ac6"
   },
   "outputs": [
    {
     "data": {
      "image/png": "[encoded data removed]",
      "text/plain": [
       "<Figure size 720x720 with 1 Axes>"
      ]
     },
     "metadata": {
      "needs_background": "light"
     },
     "output_type": "display_data"
    },
    {
     "data": {
      "image/png": "[encoded data removed]",
      "text/plain": [
       "<Figure size 720x720 with 1 Axes>"
      ]
     },
     "metadata": {
      "needs_background": "light"
     },
     "output_type": "display_data"
    }
   ],
   "source": [
    " plt.figure(figsize=(10,10))\n",
    "plt.title(\"Graph with all thresholds\", fontsize = 20)\n",
    "plt.plot(np.array(theta), components, '-o')\n",
    "plt.ylabel('number of connected components')\n",
    "plt.xlabel('thresholds')\n",
    "\n",
    "plt.show()\n",
    "\n",
    "plt.figure(figsize=(10,10))\n",
    "plt.title(\"Cut graph at first 20 thresholds\", fontsize = 20)\n",
    "plt.plot(np.array(theta)[:20], components[:20], '-o')\n",
    "plt.ylabel('number of connected components')\n",
    "plt.xlabel('thresholds')\n",
    "\n",
    "plt.show()"
   ]
  },
  {
   "cell_type": "code",
   "execution_count": 59,
   "metadata": {
    "colab": {
     "base_uri": "https://localhost:8080/",
     "height": 478
    },
    "colab_type": "code",
    "executionInfo": {
     "elapsed": 3316,
     "status": "ok",
     "timestamp": 1554390361102,
     "user": {
      "displayName": "il nano",
      "photoUrl": "https://lh6.googleusercontent.com/-heBLg35rn00/AAAAAAAAAAI/AAAAAAAAERE/DQP9H_ACCUU/s64/photo.jpg",
      "userId": "03453765899662729842"
     },
     "user_tz": -120
    },
    "id": "d1jqWzCh1_VF",
    "outputId": "d880994b-7ece-48c8-bd3c-62ac92fdd992"
   },
   "outputs": [
    {
     "data": {
      "image/png": "[encoded data removed]",
      "text/plain": [
       "<Figure size 432x288 with 1 Axes>"
      ]
     },
     "metadata": {},
     "output_type": "display_data"
    }
   ],
   "source": [
    "M_final=M.copy()\n",
    "M_final[np.abs(M_final)<threshold]=0\n",
    "G=nx.from_numpy_matrix(M_final)\n",
    "nx.draw(G)\n",
    "plt.show()"
   ]
  },
  {
   "cell_type": "code",
   "execution_count": 60,
   "metadata": {
    "colab": {
     "base_uri": "https://localhost:8080/",
     "height": 68
    },
    "colab_type": "code",
    "executionInfo": {
     "elapsed": 2778,
     "status": "ok",
     "timestamp": 1554390361107,
     "user": {
      "displayName": "il nano",
      "photoUrl": "https://lh6.googleusercontent.com/-heBLg35rn00/AAAAAAAAAAI/AAAAAAAAERE/DQP9H_ACCUU/s64/photo.jpg",
      "userId": "03453765899662729842"
     },
     "user_tz": -120
    },
    "id": "fJRaNoC-1_VY",
    "outputId": "4da5639d-e237-47a3-e506-31fbc4f31a81"
   },
   "outputs": [
    {
     "name": "stdout",
     "output_type": "stream",
     "text": [
      "the diameter of the graph is: 3\n",
      "the clustering coefficient is: 0.710638456937799\n",
      "the assortativity coefficient is: -0.23291032672420972\n"
     ]
    }
   ],
   "source": [
    "print('the diameter of the graph is:',nx.diameter(G))\n",
    "print('the clustering coefficient is:',nx.transitivity(G))\n",
    "print('the assortativity coefficient is:',nx.degree_assortativity_coefficient(G))\n",
    "s=pd.Series(nx.betweenness_centrality(G), name='betweeness centrality')\n",
    "s=s.reset_index()\n",
    "s.drop('index', axis=1, inplace=True)  \n",
    "s.rename_axis(\"node\", inplace=True)\n",
    "\n",
    "# uncomment to print s\n",
    "#print(\"\\n\\n\",s)"
   ]
  },
  {
   "cell_type": "code",
   "execution_count": 61,
   "metadata": {
    "colab": {
     "base_uri": "https://localhost:8080/",
     "height": 68
    },
    "colab_type": "code",
    "executionInfo": {
     "elapsed": 11786,
     "status": "ok",
     "timestamp": 1554390370546,
     "user": {
      "displayName": "il nano",
      "photoUrl": "https://lh6.googleusercontent.com/-heBLg35rn00/AAAAAAAAAAI/AAAAAAAAERE/DQP9H_ACCUU/s64/photo.jpg",
      "userId": "03453765899662729842"
     },
     "user_tz": -120
    },
    "id": "g6sWHxgj1_Vr",
    "outputId": "16858c20-21ba-4524-d7b8-d66125a3235f"
   },
   "outputs": [
    {
     "name": "stdout",
     "output_type": "stream",
     "text": [
      "the average diameter of the ensamble of random graph is: 2.0 ± 0.0\n",
      "the average clustering coefficient of the ensamble of random graph is: 0.6062399148456521 ± 0.014047284875414729\n",
      "the average assortativity coefficient of the ensamble of random graph is: -0.043335816682186945 ± 0.02455243539922677\n"
     ]
    }
   ],
   "source": [
    "# Erdos Renyi graph\n",
    "diameter=0\n",
    "trans=0\n",
    "assort=0\n",
    "betweeness=np.zeros(52)\n",
    "number_generated_graphs=100\n",
    "p=np.count_nonzero(M_final)/(len(M_final)*(len(M_final)-1))\n",
    "\n",
    "diameter=[]\n",
    "trans=[]\n",
    "assort=[]\n",
    "seq_ER=[]\n",
    "\n",
    "\n",
    "for i in range(number_generated_graphs):\n",
    "    ER=nx.erdos_renyi_graph(52,p )\n",
    "    diameter.append(nx.diameter(ER))\n",
    "    trans.append(nx.transitivity(ER))\n",
    "    assort.append(nx.degree_assortativity_coefficient(ER))\n",
    "    betweeness+=np.fromiter(nx.betweenness_centrality(ER).values(), dtype=np.float)\n",
    "    seq_ER.append(ER.degree())\n",
    "\n",
    "diameter=np.array(diameter)\n",
    "trans=np.array(trans)\n",
    "assort=np.array(assort)\n",
    "\n",
    "print('the average diameter of the ensamble of random graph is:',diameter.mean(), '±', diameter.std())\n",
    "print('the average clustering coefficient of the ensamble of random graph is:',trans.mean() , '±', trans.std())\n",
    "print('the average assortativity coefficient of the ensamble of random graph is:',assort.mean(), '±', assort.std())\n",
    "\n",
    "s1=pd.Series(betweeness/number_generated_graphs, name='betweeness centrality')\n",
    "s1=s1.reset_index()\n",
    "s1.drop('index', axis=1, inplace=True)  \n",
    "s1.rename_axis(\"node\", inplace=True)\n",
    "\n",
    "#print(\"\\n\\n\", s1)"
   ]
  },
  {
   "cell_type": "code",
   "execution_count": null,
   "metadata": {},
   "outputs": [],
   "source": [
    "# here we print the average betweenes centrality\n",
    "print(\"The betweenes centrality of our graph is:\", np.array(s).mean())\n",
    "print(\"The betweenes centrality of E-R ensemble is:\",np.array(s1).mean())"
   ]
  },
  {
   "cell_type": "code",
   "execution_count": 123,
   "metadata": {
    "colab": {
     "base_uri": "https://localhost:8080/",
     "height": 357
    },
    "colab_type": "code",
    "executionInfo": {
     "elapsed": 10625,
     "status": "ok",
     "timestamp": 1554390370558,
     "user": {
      "displayName": "il nano",
      "photoUrl": "https://lh6.googleusercontent.com/-heBLg35rn00/AAAAAAAAAAI/AAAAAAAAERE/DQP9H_ACCUU/s64/photo.jpg",
      "userId": "03453765899662729842"
     },
     "user_tz": -120
    },
    "id": "KMfMh7DF1_WM",
    "outputId": "913cc1bc-e97f-4685-fa3f-b474c9dc10b8"
   },
   "outputs": [
    {
     "data": {
      "image/png": "[encoded data removed]",
      "text/plain": [
       "<Figure size 1440x360 with 3 Axes>"
      ]
     },
     "metadata": {
      "needs_background": "light"
     },
     "output_type": "display_data"
    }
   ],
   "source": [
    "fig1, (ax1, ax2, ax3) = plt.subplots(ncols=3, figsize=(20, 5))\n",
    "\n",
    "\n",
    "ax1.boxplot(trans, vert = False)\n",
    "ax2.boxplot( assort, vert = False)\n",
    "ax3.boxplot( np.array(s1), vert = False)\n",
    "ax1.plot( nx.transitivity(G), 1, marker='*', markersize=20 )\n",
    "ax2.plot(  nx.degree_assortativity_coefficient(G), 1, marker='*', markersize=20 )\n",
    "ax3.plot(  np.array(s).mean(), 1, marker='*', markersize=20 )\n",
    "ax1.set_title('Transitivity coefficient', fontsize=15)\n",
    "ax2.set_title('Assortativity coefficient', fontsize=15)\n",
    "ax3.set_title('Betweeness centrality', fontsize=15)\n",
    "ax1.set_yticks([])\n",
    "ax2.set_yticks([])\n",
    "ax3.set_yticks([])\n",
    "\n",
    "plt.show()"
   ]
  },
  {
   "cell_type": "code",
   "execution_count": 64,
   "metadata": {
    "colab": {},
    "colab_type": "code",
    "id": "svwpw7Wl1_WZ"
   },
   "outputs": [],
   "source": [
    "from math import factorial as fac\n",
    "\n",
    "def binomial(x, y):\n",
    "    try:\n",
    "        binom = fac(x) // fac(y) // fac(x - y)\n",
    "    except ValueError:\n",
    "        binom = 0\n",
    "    return binom\n",
    "\n",
    "k=np.arange(52)\n",
    "\n",
    "kbin=np.zeros(52)\n",
    "for i in k:\n",
    "    kbin[i]=binomial(51,k[i])"
   ]
  },
  {
   "cell_type": "code",
   "execution_count": null,
   "metadata": {},
   "outputs": [],
   "source": [
    "import collections"
   ]
  },
  {
   "cell_type": "code",
   "execution_count": 75,
   "metadata": {
    "colab": {
     "base_uri": "https://localhost:8080/",
     "height": 1441
    },
    "colab_type": "code",
    "executionInfo": {
     "elapsed": 2248,
     "status": "ok",
     "timestamp": 1554391370141,
     "user": {
      "displayName": "il nano",
      "photoUrl": "https://lh6.googleusercontent.com/-heBLg35rn00/AAAAAAAAAAI/AAAAAAAAERE/DQP9H_ACCUU/s64/photo.jpg",
      "userId": "03453765899662729842"
     },
     "user_tz": -120
    },
    "id": "dBb9yAr_1_Wn",
    "outputId": "e1c11f8e-1a79-40dc-d539-a64ae5c776fa"
   },
   "outputs": [
    {
     "data": {
      "image/png": "[encoded data removed]",
      "text/plain": [
       "<Figure size 864x864 with 1 Axes>"
      ]
     },
     "metadata": {
      "needs_background": "light"
     },
     "output_type": "display_data"
    }
   ],
   "source": [
    "#distribuzione degree del nostro grafo\n",
    "\n",
    "degree_sequence = sorted([d for n, d in G.degree()], reverse=True)  # degree sequence\n",
    "#print (\"Degree sequence\", degree_sequence)\n",
    "degreeCount = collections.Counter(degree_sequence)\n",
    "deg, cnt = zip(*degreeCount.items())\n",
    "\n",
    "fig, ax = plt.subplots(figsize=(12,12))\n",
    "plt.bar(deg, cnt, width=0.80, color='#4499aa', label='Matrix degree distribution')\n",
    "\n",
    "plt.ylim(0, 7)\n",
    "plt.xlim(0, 53)\n",
    "plt.title(\"Degree Histogram\")\n",
    "plt.ylabel(\"Count\")\n",
    "plt.xlabel(\"Degree\")\n",
    "ax.set_xticks([d for d in deg])\n",
    "ax.set_xticklabels(deg)\n",
    "plt.legend()\n",
    "plt.show()"
   ]
  },
  {
   "cell_type": "code",
   "execution_count": 116,
   "metadata": {},
   "outputs": [
    {
     "data": {
      "image/png": "[encoded data removed]",
      "text/plain": [
       "<Figure size 864x864 with 1 Axes>"
      ]
     },
     "metadata": {
      "needs_background": "light"
     },
     "output_type": "display_data"
    }
   ],
   "source": [
    "degree_sequence = sorted([d for n, d in G.degree()], reverse=True)  # degree sequence\n",
    "#print (\"Degree sequence\", degree_sequence)\n",
    "degreeCount = collections.Counter(degree_sequence)\n",
    "deg1, cnt1 = zip(*degreeCount.items())\n",
    "\n",
    "#distribuzione media dei degree di 100 ER\n",
    "\n",
    "\n",
    "degreeCount_array=np.zeros((0))\n",
    "df=[]\n",
    "\n",
    "for i in range(number_generated_graphs):\n",
    "\n",
    "    degree_sequence = sorted([d for n, d in seq_ER[i]], reverse=True)  # degree sequence\n",
    "    #print (\"Degree sequence\", degree_sequence)\n",
    "    degreeCount = collections.Counter(degree_sequence)\n",
    "    deg, cnt = zip(*degreeCount.items())\n",
    "    df.append(pd.DataFrame(pd.Series(pd.Series(data=cnt,index=deg))))\n",
    "\n",
    "    \n",
    "dff=reduce(lambda x, y: pd.DataFrame.join(x,y, how='outer', lsuffix='_left', rsuffix='_right').fillna(0), df)\n",
    "meandegree=dff.mean(axis=1)\n",
    "\n",
    "\n",
    "fig, ax = plt.subplots(figsize=(12,12))\n",
    "plt.bar(np.array(meandegree.index), np.array(meandegree.values), width=1.0, edgecolor = 'k', alpha=0.45, color='#44bb88', label='mean of 100 Erdos-Renyi experimental degree distribution')\n",
    "plt.bar(deg1, cnt1, width=1.0, color='#dddd22', edgecolor='k', label='Matrix degree distribution', alpha=0.5)\n",
    "plt.plot(k,52*kbin*p**k*(1-p)**(51-k), c='#2222aa', label='theoretical distribution curve of ER')\n",
    "\n",
    "# preparing ticks altoghether\n",
    "tick1 = np.array(meandegree.index)\n",
    "tick2 = np.array(deg1)\n",
    "tick = np.concatenate( (tick1, tick2), axis = None)\n",
    "tick = np.unique(tick)\n",
    "\n",
    "plt.ylim(0, 8)\n",
    "plt.xlim(0, 53)\n",
    "plt.title(\"Comparison histogram\", fontsize = 20)\n",
    "plt.ylabel(\"Count\")\n",
    "plt.xlabel(\"Degree\")\n",
    "ax.set_xticks([d for d in tick])\n",
    "ax.set_xticklabels(tick)\n",
    "plt.legend()\n",
    "plt.show()"
   ]
  },
  {
   "cell_type": "code",
   "execution_count": 127,
   "metadata": {},
   "outputs": [
    {
     "data": {
      "text/plain": [
       "0.60633"
      ]
     },
     "execution_count": 127,
     "metadata": {},
     "output_type": "execute_result"
    }
   ],
   "source": [
    "p"
   ]
  },
  {
   "cell_type": "code",
   "execution_count": null,
   "metadata": {},
   "outputs": [],
   "source": []
  }
 ],
 "metadata": {
  "colab": {
   "name": "perfect_Ex_01.ipynb",
   "provenance": [],
   "version": "0.3.2"
  },
  "kernelspec": {
   "display_name": "Python 3",
   "language": "python",
   "name": "python3"
  },
  "language_info": {
   "codemirror_mode": {
    "name": "ipython",
    "version": 3
   },
   "file_extension": ".py",
   "mimetype": "text/x-python",
   "name": "python",
   "nbconvert_exporter": "python",
   "pygments_lexer": "ipython3",
   "version": "3.6.5"
  }
 },
 "nbformat": 4,
 "nbformat_minor": 1
}
